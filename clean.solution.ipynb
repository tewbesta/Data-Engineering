{
    "cells": [
        {
            "cell_type": "markdown",
            "metadata": {
                "deletable": false,
                "editable": false,
                "nbgrader": {
                    "grade": false,
                    "locked": true,
                    "solution": false
                }
            },
            "source": [
                "Please carefully read the handout for homework 3, and enter your code below in the appropriate cells"
            ]
        },
        {
            "cell_type": "code",
            "execution_count": 70,
            "metadata": {},
            "outputs": [],
            "source": [
                "# Please enter your code for part 1 here\n",
                "# Import the sqlite3 library\n",
                "import sqlite3\n",
                "con = sqlite3.connect('imdb.db')\n",
                "c = con.cursor()\n",
                "\n",
                "newrows=[(1,1,\"\",\"Purdue\",\"\",0),(2,1,\"\",\"Purdue\",\"\",0),(3,1,\"\",\"Purdue\",\"\",0)]\n",
                "# Insert a tuple\n",
                "for i in range(3):\n",
                "    c.execute('''INSERT INTO titles VALUES (?,?,?,?,?,?)''',newrows[i])\n",
                "    c.execute('''SELECT Region FROM titles where rowid={} AND region=\"Purdue\"'''.format(c.lastrowid))\n",
                "    print(c.fetchone(),c.lastrowid)\n",
                "#p=c.execute('''SELECT region FROM titles;''')\n",
                "# Commit all updates\n",
                "con.commit()\n",
                "\n",
                "#x=pd.DataFrame(tit,columns=[tit.columns])\n",
                "\n",
                "# Close the connection\n",
                "con.close() "
            ]
        },
        {
            "cell_type": "code",
            "execution_count": 71,
            "metadata": {
                "scrolled": true
            },
            "outputs": [],
            "source": [
                "# Please enter your code for part 2 here\n",
                "con = sqlite3.connect('imdb.db')\n",
                "c = con.cursor()\n",
                "c.execute('''UPDATE titles SET Language='Boiler' WHERE region=\"Purdue\"''')\n",
                "c.execute('''SELECT * FROM titles WHERE REGION=\"Purdue\" ''')\n",
                "print(c.fetchall())\n",
                "con.commit()\n",
                "con.close()\n"
            ]
        },
        {
            "cell_type": "code",
            "execution_count": 77,
            "metadata": {},
            "outputs": [],
            "source": [
                "# Please enter your code for part 3 here\n",
                "con = sqlite3.connect('imdb.db')\n",
                "c = con.cursor()\n",
                "c.execute('''DELETE titles WHERE REGION=\"Purdue\";''')\n",
                "c.execute('''SELECT * from titles WHERE REGION=\"Purdue\";''')\n",
                "print(c.fetchall())\n",
                "con.commit()\n",
                "con.close()"
            ]
        },
        {
            "cell_type": "code",
            "execution_count": 96,
            "metadata": {},
            "outputs": [],
            "source": [
                "# Please enter your code for part 4 here\n",
                "con = sqlite3.connect('imdb.db')\n",
                "\n",
                "c = con.cursor()\n",
                "cursor=c.execute('''SELECT * FROM productions''')\n",
                "names = [description[0] for description in cursor.description]\n",
                "print(c.fetchall())\n",
                "c.execute('''SELECT P.PRIMARY_TITLE,P.GENRES,R.AVG_RATING,R.NUM_VOTES,P.TITLE_TYPE FROM PRODUCTIONS P,RATINGS R WHERE P.TITLE_TYPE=\"tv series AND R.AVG_RATING<=10\"''') \n",
                "print(c.fetchall())\n",
                "con.commit()\n",
                "con.close()\n",
                "\n"
            ]
        },
        {
            "cell_type": "code",
            "execution_count": null,
            "metadata": {
                "collapsed": true
            },
            "outputs": [],
            "source": [
                "# Please enter your code for part 5 here\n",
                "\n",
                "\n",
                "\n",
                "\n"
            ]
        },
        {
            "cell_type": "code",
            "execution_count": null,
            "metadata": {
                "collapsed": true
            },
            "outputs": [],
            "source": [
                "# Please enter your code for part 6 here\n",
                "\n",
                "\n",
                "\n",
                "\n"
            ]
        },
        {
            "cell_type": "code",
            "execution_count": null,
            "metadata": {
                "collapsed": true
            },
            "outputs": [],
            "source": [
                "# Please enter your code for part 7 here\n",
                "\n",
                "\n",
                "\n",
                "\n"
            ]
        },
        {
            "cell_type": "code",
            "execution_count": null,
            "metadata": {
                "collapsed": true
            },
            "outputs": [],
            "source": [
                "# Please enter your code for part 8 here\n",
                "\n",
                "\n",
                "\n",
                "\n"
            ]
        }
    ],
    "metadata": {
        "kernelspec": {
            "display_name": "Python 3 [3.7]",
            "language": "python",
            "name": "python3"
        },
        "language_info": {
            "codemirror_mode": {
                "name": "ipython",
                "version": 3
            },
            "file_extension": ".py",
            "mimetype": "text/x-python",
            "name": "python",
            "nbconvert_exporter": "python",
            "pygments_lexer": "ipython3",
            "version": "3.7.5"
        }
    },
    "nbformat": 4,
    "nbformat_minor": 2
}