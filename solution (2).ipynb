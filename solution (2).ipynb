{
 "cells": [
  {
   "cell_type": "markdown",
   "metadata": {
    "deletable": false,
    "editable": false,
    "nbgrader": {
     "grade": false,
     "locked": true,
     "solution": false
    }
   },
   "source": [
    "Please read the handout for homework 2 before attempting this. This homework shall give you more hands on experience with SQL queries and some data visualization using pandas library. \n",
    "\n",
    "You should use the __imdb.db__ file you created in homework 1 for this homework. All the tables to be referenced should be in your __imdb.db__ file.\n",
    "\n",
    "All SQL queries that you are supposed to write should be entered as strings, e.g. \"SELECT some\\_field from some\\_table\"\n"
   ]
  },
  {
   "cell_type": "code",
   "execution_count": 93,
   "metadata": {
    "collapsed": true,
    "deletable": false,
    "editable": false,
    "nbgrader": {
     "grade": false,
     "locked": true,
     "solution": false
    }
   },
   "outputs": [],
   "source": [
    "import sqlite3, pandas as pd"
   ]
  },
  {
   "cell_type": "markdown",
   "metadata": {
    "deletable": false,
    "editable": false,
    "nbgrader": {
     "grade": false,
     "locked": true,
     "solution": false
    }
   },
   "source": [
    "__1.__ Complete the following people_query with an SQL query to select everything from *people* table."
   ]
  },
  {
   "cell_type": "code",
   "execution_count": 94,
   "metadata": {},
   "outputs": [
    {
     "data": {
      "text/html": [
       "<div>\n",
       "<style scoped>\n",
       "    .dataframe tbody tr th:only-of-type {\n",
       "        vertical-align: middle;\n",
       "    }\n",
       "\n",
       "    .dataframe tbody tr th {\n",
       "        vertical-align: top;\n",
       "    }\n",
       "\n",
       "    .dataframe thead th {\n",
       "        text-align: right;\n",
       "    }\n",
       "</style>\n",
       "<table border=\"1\" class=\"dataframe\">\n",
       "  <thead>\n",
       "    <tr style=\"text-align: right;\">\n",
       "      <th></th>\n",
       "      <th>0</th>\n",
       "      <th>1</th>\n",
       "      <th>2</th>\n",
       "      <th>3</th>\n",
       "      <th>4</th>\n",
       "      <th>5</th>\n",
       "    </tr>\n",
       "  </thead>\n",
       "  <tbody>\n",
       "    <tr>\n",
       "      <th>0</th>\n",
       "      <td>nm0000093</td>\n",
       "      <td>Brad Pitt</td>\n",
       "      <td>1963</td>\n",
       "      <td></td>\n",
       "      <td>actor,producer,soundtrack</td>\n",
       "      <td>tt0816711,tt0356910,tt1210166,tt0114746</td>\n",
       "    </tr>\n",
       "    <tr>\n",
       "      <th>1</th>\n",
       "      <td>nm0000098</td>\n",
       "      <td>Jennifer Aniston</td>\n",
       "      <td>1969</td>\n",
       "      <td></td>\n",
       "      <td>actress,producer,soundtrack</td>\n",
       "      <td>tt1038919,tt1723121,tt0108778,tt3442006</td>\n",
       "    </tr>\n",
       "    <tr>\n",
       "      <th>2</th>\n",
       "      <td>nm0000099</td>\n",
       "      <td>Patricia Arquette</td>\n",
       "      <td>1968</td>\n",
       "      <td></td>\n",
       "      <td>actress,director,producer</td>\n",
       "      <td>tt0145531,tt0108399,tt0412175,tt1065073</td>\n",
       "    </tr>\n",
       "    <tr>\n",
       "      <th>3</th>\n",
       "      <td>nm0000104</td>\n",
       "      <td>Antonio Banderas</td>\n",
       "      <td>1960</td>\n",
       "      <td></td>\n",
       "      <td>actor,soundtrack,producer</td>\n",
       "      <td>tt0120657,tt0120746,tt1189073,tt0112851</td>\n",
       "    </tr>\n",
       "    <tr>\n",
       "      <th>4</th>\n",
       "      <td>nm0000105</td>\n",
       "      <td>Adrienne Barbeau</td>\n",
       "      <td>1945</td>\n",
       "      <td></td>\n",
       "      <td>actress,writer,soundtrack</td>\n",
       "      <td>tt0090685,tt0082340,tt1024648,tt0080749</td>\n",
       "    </tr>\n",
       "    <tr>\n",
       "      <th>...</th>\n",
       "      <td>...</td>\n",
       "      <td>...</td>\n",
       "      <td>...</td>\n",
       "      <td>...</td>\n",
       "      <td>...</td>\n",
       "      <td>...</td>\n",
       "    </tr>\n",
       "    <tr>\n",
       "      <th>107061</th>\n",
       "      <td>nm9993398</td>\n",
       "      <td>Oliviero Del Papa</td>\n",
       "      <td></td>\n",
       "      <td></td>\n",
       "      <td>writer</td>\n",
       "      <td>tt10941386,tt8992942,tt8743200,tt10270592</td>\n",
       "    </tr>\n",
       "    <tr>\n",
       "      <th>107062</th>\n",
       "      <td>nm9993444</td>\n",
       "      <td>Jason Winter</td>\n",
       "      <td></td>\n",
       "      <td></td>\n",
       "      <td>actor</td>\n",
       "      <td>tt8743272,tt10540122</td>\n",
       "    </tr>\n",
       "    <tr>\n",
       "      <th>107063</th>\n",
       "      <td>nm9993573</td>\n",
       "      <td>Lakisha Louissaint</td>\n",
       "      <td></td>\n",
       "      <td></td>\n",
       "      <td>director,writer,producer</td>\n",
       "      <td>tt10299418</td>\n",
       "    </tr>\n",
       "    <tr>\n",
       "      <th>107064</th>\n",
       "      <td>nm9993636</td>\n",
       "      <td>Adam French</td>\n",
       "      <td></td>\n",
       "      <td></td>\n",
       "      <td>actor</td>\n",
       "      <td>tt10227780,tt6164916,tt10842376</td>\n",
       "    </tr>\n",
       "    <tr>\n",
       "      <th>107065</th>\n",
       "      <td>nm9993680</td>\n",
       "      <td>Christopher-Lawson Palmer</td>\n",
       "      <td></td>\n",
       "      <td></td>\n",
       "      <td>actor</td>\n",
       "      <td>tt10979852,tt10427366,tt8295580</td>\n",
       "    </tr>\n",
       "  </tbody>\n",
       "</table>\n",
       "<p>107066 rows × 6 columns</p>\n",
       "</div>"
      ],
      "text/plain": [
       "                0                          1     2 3   \\\n",
       "0       nm0000093                  Brad Pitt  1963      \n",
       "1       nm0000098           Jennifer Aniston  1969      \n",
       "2       nm0000099          Patricia Arquette  1968      \n",
       "3       nm0000104           Antonio Banderas  1960      \n",
       "4       nm0000105           Adrienne Barbeau  1945      \n",
       "...           ...                        ...   ... ..   \n",
       "107061  nm9993398          Oliviero Del Papa            \n",
       "107062  nm9993444               Jason Winter            \n",
       "107063  nm9993573         Lakisha Louissaint            \n",
       "107064  nm9993636                Adam French            \n",
       "107065  nm9993680  Christopher-Lawson Palmer            \n",
       "\n",
       "                                  4                                          5  \n",
       "0         actor,producer,soundtrack    tt0816711,tt0356910,tt1210166,tt0114746  \n",
       "1       actress,producer,soundtrack    tt1038919,tt1723121,tt0108778,tt3442006  \n",
       "2         actress,director,producer    tt0145531,tt0108399,tt0412175,tt1065073  \n",
       "3         actor,soundtrack,producer    tt0120657,tt0120746,tt1189073,tt0112851  \n",
       "4         actress,writer,soundtrack    tt0090685,tt0082340,tt1024648,tt0080749  \n",
       "...                             ...                                        ...  \n",
       "107061                       writer  tt10941386,tt8992942,tt8743200,tt10270592  \n",
       "107062                        actor                       tt8743272,tt10540122  \n",
       "107063     director,writer,producer                                 tt10299418  \n",
       "107064                        actor            tt10227780,tt6164916,tt10842376  \n",
       "107065                        actor            tt10979852,tt10427366,tt8295580  \n",
       "\n",
       "[107066 rows x 6 columns]"
      ]
     },
     "execution_count": 94,
     "metadata": {},
     "output_type": "execute_result"
    }
   ],
   "source": [
    "con= sqlite3.connect('imdb.db')\n",
    "c=con.cursor()\n",
    "people_query = c.execute('''SELECT * FROM people;''')\n",
    "pd.DataFrame(people_query)"
   ]
  },
  {
   "cell_type": "code",
   "execution_count": 95,
   "metadata": {
    "collapsed": true,
    "deletable": false,
    "editable": false,
    "nbgrader": {
     "grade": true,
     "grade_id": "people_query",
     "locked": true,
     "points": "5",
     "solution": false
    }
   },
   "outputs": [],
   "source": [
    "###\n",
    "### AUTOGRADER TEST - DO NOT REMOVE\n",
    "###\n"
   ]
  },
  {
   "cell_type": "markdown",
   "metadata": {
    "deletable": false,
    "editable": false,
    "nbgrader": {
     "grade": false,
     "locked": true,
     "solution": false
    }
   },
   "source": [
    "__2.__ Complete the following titles_query with an SQL query to select the first 20 distinct REGION from the *titles* table."
   ]
  },
  {
   "cell_type": "code",
   "execution_count": 96,
   "metadata": {},
   "outputs": [
    {
     "data": {
      "text/html": [
       "<div>\n",
       "<style scoped>\n",
       "    .dataframe tbody tr th:only-of-type {\n",
       "        vertical-align: middle;\n",
       "    }\n",
       "\n",
       "    .dataframe tbody tr th {\n",
       "        vertical-align: top;\n",
       "    }\n",
       "\n",
       "    .dataframe thead th {\n",
       "        text-align: right;\n",
       "    }\n",
       "</style>\n",
       "<table border=\"1\" class=\"dataframe\">\n",
       "  <thead>\n",
       "    <tr style=\"text-align: right;\">\n",
       "      <th></th>\n",
       "      <th>0</th>\n",
       "    </tr>\n",
       "  </thead>\n",
       "  <tbody>\n",
       "    <tr>\n",
       "      <th>0</th>\n",
       "      <td>FR</td>\n",
       "    </tr>\n",
       "    <tr>\n",
       "      <th>1</th>\n",
       "      <td>VE</td>\n",
       "    </tr>\n",
       "    <tr>\n",
       "      <th>2</th>\n",
       "      <td>PL</td>\n",
       "    </tr>\n",
       "    <tr>\n",
       "      <th>3</th>\n",
       "      <td>DE</td>\n",
       "    </tr>\n",
       "    <tr>\n",
       "      <th>4</th>\n",
       "      <td>HU</td>\n",
       "    </tr>\n",
       "    <tr>\n",
       "      <th>5</th>\n",
       "      <td>PT</td>\n",
       "    </tr>\n",
       "    <tr>\n",
       "      <th>6</th>\n",
       "      <td>BR</td>\n",
       "    </tr>\n",
       "    <tr>\n",
       "      <th>7</th>\n",
       "      <td>US</td>\n",
       "    </tr>\n",
       "    <tr>\n",
       "      <th>8</th>\n",
       "      <td>GB</td>\n",
       "    </tr>\n",
       "    <tr>\n",
       "      <th>9</th>\n",
       "      <td>GR</td>\n",
       "    </tr>\n",
       "    <tr>\n",
       "      <th>10</th>\n",
       "      <td>IT</td>\n",
       "    </tr>\n",
       "    <tr>\n",
       "      <th>11</th>\n",
       "      <td>RU</td>\n",
       "    </tr>\n",
       "    <tr>\n",
       "      <th>12</th>\n",
       "      <td>AR</td>\n",
       "    </tr>\n",
       "    <tr>\n",
       "      <th>13</th>\n",
       "      <td>ES</td>\n",
       "    </tr>\n",
       "    <tr>\n",
       "      <th>14</th>\n",
       "      <td></td>\n",
       "    </tr>\n",
       "    <tr>\n",
       "      <th>15</th>\n",
       "      <td>IN</td>\n",
       "    </tr>\n",
       "    <tr>\n",
       "      <th>16</th>\n",
       "      <td>HK</td>\n",
       "    </tr>\n",
       "    <tr>\n",
       "      <th>17</th>\n",
       "      <td>AZ</td>\n",
       "    </tr>\n",
       "    <tr>\n",
       "      <th>18</th>\n",
       "      <td>XWW</td>\n",
       "    </tr>\n",
       "    <tr>\n",
       "      <th>19</th>\n",
       "      <td>AU</td>\n",
       "    </tr>\n",
       "  </tbody>\n",
       "</table>\n",
       "</div>"
      ],
      "text/plain": [
       "      0\n",
       "0    FR\n",
       "1    VE\n",
       "2    PL\n",
       "3    DE\n",
       "4    HU\n",
       "5    PT\n",
       "6    BR\n",
       "7    US\n",
       "8    GB\n",
       "9    GR\n",
       "10   IT\n",
       "11   RU\n",
       "12   AR\n",
       "13   ES\n",
       "14     \n",
       "15   IN\n",
       "16   HK\n",
       "17   AZ\n",
       "18  XWW\n",
       "19   AU"
      ]
     },
     "execution_count": 96,
     "metadata": {},
     "output_type": "execute_result"
    }
   ],
   "source": [
    "titles_query = c.execute('''SELECT DISTINCT REGION FROM titles LIMIT 20;''')\n",
    "\n",
    "pd.DataFrame(titles_query)\n"
   ]
  },
  {
   "cell_type": "code",
   "execution_count": 97,
   "metadata": {
    "collapsed": true,
    "deletable": false,
    "editable": false,
    "nbgrader": {
     "grade": true,
     "grade_id": "titles_query",
     "locked": true,
     "points": "5",
     "solution": false
    }
   },
   "outputs": [],
   "source": [
    "###\n",
    "### AUTOGRADER TEST - DO NOT REMOVE\n",
    "###\n"
   ]
  },
  {
   "cell_type": "markdown",
   "metadata": {
    "deletable": false,
    "editable": false,
    "nbgrader": {
     "grade": false,
     "locked": true,
     "solution": false
    }
   },
   "source": [
    "__3.__ Complete the following production_query with an SQL query to select the first 5 rows from the *production* table where *TITLE_TYPE* = “movie” and *START_YEAR* >= 2018."
   ]
  },
  {
   "cell_type": "code",
   "execution_count": 98,
   "metadata": {},
   "outputs": [
    {
     "data": {
      "text/html": [
       "<div>\n",
       "<style scoped>\n",
       "    .dataframe tbody tr th:only-of-type {\n",
       "        vertical-align: middle;\n",
       "    }\n",
       "\n",
       "    .dataframe tbody tr th {\n",
       "        vertical-align: top;\n",
       "    }\n",
       "\n",
       "    .dataframe thead th {\n",
       "        text-align: right;\n",
       "    }\n",
       "</style>\n",
       "<table border=\"1\" class=\"dataframe\">\n",
       "  <thead>\n",
       "    <tr style=\"text-align: right;\">\n",
       "      <th></th>\n",
       "      <th>0</th>\n",
       "      <th>1</th>\n",
       "      <th>2</th>\n",
       "      <th>3</th>\n",
       "      <th>4</th>\n",
       "      <th>5</th>\n",
       "      <th>6</th>\n",
       "      <th>7</th>\n",
       "    </tr>\n",
       "  </thead>\n",
       "  <tbody>\n",
       "    <tr>\n",
       "      <th>0</th>\n",
       "      <td>tt0069049</td>\n",
       "      <td>movie</td>\n",
       "      <td>The Other Side of the Wind</td>\n",
       "      <td>The Other Side of the Wind</td>\n",
       "      <td>2018</td>\n",
       "      <td>0</td>\n",
       "      <td>122</td>\n",
       "      <td>Drama</td>\n",
       "    </tr>\n",
       "    <tr>\n",
       "      <th>1</th>\n",
       "      <td>tt0069204</td>\n",
       "      <td>movie</td>\n",
       "      <td>Sabse Bada Sukh</td>\n",
       "      <td>Sabse Bada Sukh</td>\n",
       "      <td>2018</td>\n",
       "      <td>0</td>\n",
       "      <td>0</td>\n",
       "      <td>Comedy,Drama</td>\n",
       "    </tr>\n",
       "    <tr>\n",
       "      <th>2</th>\n",
       "      <td>tt0085953</td>\n",
       "      <td>movie</td>\n",
       "      <td>Devil Fetus</td>\n",
       "      <td>Mo tai</td>\n",
       "      <td>2019</td>\n",
       "      <td>0</td>\n",
       "      <td>84</td>\n",
       "      <td>Horror</td>\n",
       "    </tr>\n",
       "    <tr>\n",
       "      <th>3</th>\n",
       "      <td>tt0111414</td>\n",
       "      <td>movie</td>\n",
       "      <td>A Thin Life</td>\n",
       "      <td>A Thin Life</td>\n",
       "      <td>2018</td>\n",
       "      <td>0</td>\n",
       "      <td>75</td>\n",
       "      <td>Comedy</td>\n",
       "    </tr>\n",
       "    <tr>\n",
       "      <th>4</th>\n",
       "      <td>tt0116991</td>\n",
       "      <td>movie</td>\n",
       "      <td>Mariette in Ecstasy</td>\n",
       "      <td>Mariette in Ecstasy</td>\n",
       "      <td>2019</td>\n",
       "      <td>0</td>\n",
       "      <td>0</td>\n",
       "      <td>Drama</td>\n",
       "    </tr>\n",
       "  </tbody>\n",
       "</table>\n",
       "</div>"
      ],
      "text/plain": [
       "           0      1                           2                           3  \\\n",
       "0  tt0069049  movie  The Other Side of the Wind  The Other Side of the Wind   \n",
       "1  tt0069204  movie             Sabse Bada Sukh             Sabse Bada Sukh   \n",
       "2  tt0085953  movie                 Devil Fetus                      Mo tai   \n",
       "3  tt0111414  movie                 A Thin Life                 A Thin Life   \n",
       "4  tt0116991  movie         Mariette in Ecstasy         Mariette in Ecstasy   \n",
       "\n",
       "      4  5    6             7  \n",
       "0  2018  0  122         Drama  \n",
       "1  2018  0    0  Comedy,Drama  \n",
       "2  2019  0   84        Horror  \n",
       "3  2018  0   75        Comedy  \n",
       "4  2019  0    0         Drama  "
      ]
     },
     "execution_count": 98,
     "metadata": {},
     "output_type": "execute_result"
    }
   ],
   "source": [
    "production_query = c.execute('''SELECT * FROM productions WHERE title_Type= 'movie' AND START_YEAR>=2018 LIMIT 5;''')\n",
    "\n",
    "pd.DataFrame(production_query)\n"
   ]
  },
  {
   "cell_type": "code",
   "execution_count": 99,
   "metadata": {
    "collapsed": true,
    "deletable": false,
    "editable": false,
    "nbgrader": {
     "grade": true,
     "grade_id": "production_query",
     "locked": true,
     "points": "5",
     "solution": false
    }
   },
   "outputs": [],
   "source": [
    "###\n",
    "### AUTOGRADER TEST - DO NOT REMOVE\n",
    "###\n"
   ]
  },
  {
   "cell_type": "markdown",
   "metadata": {
    "deletable": false,
    "editable": false,
    "nbgrader": {
     "grade": false,
     "locked": true,
     "solution": false
    }
   },
   "source": [
    "__4.__ Complete the following avg_production_query with an SQL query to first select the average *RUNTIME_MINUTES* for each *TITLE_TYPE* and __order them  alphabetically__ according to *TITLE_TYPE* from the *productions* table. Then select the *TITLE_TYPE*, and __average__ *RUNTIME_MINUTES*. <br/> \n",
    "__Note:__ These are not two separate queries, and can be implemented in a single SQL query.\n"
   ]
  },
  {
   "cell_type": "code",
   "execution_count": 100,
   "metadata": {},
   "outputs": [
    {
     "data": {
      "text/html": [
       "<div>\n",
       "<style scoped>\n",
       "    .dataframe tbody tr th:only-of-type {\n",
       "        vertical-align: middle;\n",
       "    }\n",
       "\n",
       "    .dataframe tbody tr th {\n",
       "        vertical-align: top;\n",
       "    }\n",
       "\n",
       "    .dataframe thead th {\n",
       "        text-align: right;\n",
       "    }\n",
       "</style>\n",
       "<table border=\"1\" class=\"dataframe\">\n",
       "  <thead>\n",
       "    <tr style=\"text-align: right;\">\n",
       "      <th></th>\n",
       "      <th>0</th>\n",
       "      <th>1</th>\n",
       "    </tr>\n",
       "  </thead>\n",
       "  <tbody>\n",
       "    <tr>\n",
       "      <th>0</th>\n",
       "      <td>movie</td>\n",
       "      <td>45.484017</td>\n",
       "    </tr>\n",
       "    <tr>\n",
       "      <th>1</th>\n",
       "      <td>short</td>\n",
       "      <td>6.447541</td>\n",
       "    </tr>\n",
       "    <tr>\n",
       "      <th>2</th>\n",
       "      <td>tvEpisode</td>\n",
       "      <td>4.325094</td>\n",
       "    </tr>\n",
       "    <tr>\n",
       "      <th>3</th>\n",
       "      <td>tvMiniSeries</td>\n",
       "      <td>10.775281</td>\n",
       "    </tr>\n",
       "    <tr>\n",
       "      <th>4</th>\n",
       "      <td>tvMovie</td>\n",
       "      <td>31.210023</td>\n",
       "    </tr>\n",
       "    <tr>\n",
       "      <th>5</th>\n",
       "      <td>tvSeries</td>\n",
       "      <td>11.813807</td>\n",
       "    </tr>\n",
       "    <tr>\n",
       "      <th>6</th>\n",
       "      <td>tvShort</td>\n",
       "      <td>12.780702</td>\n",
       "    </tr>\n",
       "    <tr>\n",
       "      <th>7</th>\n",
       "      <td>tvSpecial</td>\n",
       "      <td>43.037871</td>\n",
       "    </tr>\n",
       "    <tr>\n",
       "      <th>8</th>\n",
       "      <td>video</td>\n",
       "      <td>20.874394</td>\n",
       "    </tr>\n",
       "    <tr>\n",
       "      <th>9</th>\n",
       "      <td>videoGame</td>\n",
       "      <td>0.538647</td>\n",
       "    </tr>\n",
       "  </tbody>\n",
       "</table>\n",
       "</div>"
      ],
      "text/plain": [
       "              0          1\n",
       "0         movie  45.484017\n",
       "1         short   6.447541\n",
       "2     tvEpisode   4.325094\n",
       "3  tvMiniSeries  10.775281\n",
       "4       tvMovie  31.210023\n",
       "5      tvSeries  11.813807\n",
       "6       tvShort  12.780702\n",
       "7     tvSpecial  43.037871\n",
       "8         video  20.874394\n",
       "9     videoGame   0.538647"
      ]
     },
     "execution_count": 100,
     "metadata": {},
     "output_type": "execute_result"
    }
   ],
   "source": [
    "avg_production_query = c.execute('''Select title_Type, avg(RUNTIME_MINUTES) FROM productions GROUP BY title_Type ORDER BY title_Type''')\n",
    "\n",
    "pd.DataFrame(avg_production_query)\n"
   ]
  },
  {
   "cell_type": "code",
   "execution_count": 101,
   "metadata": {
    "collapsed": true,
    "deletable": false,
    "editable": false,
    "nbgrader": {
     "grade": true,
     "grade_id": "avg_production_query",
     "locked": true,
     "points": "8",
     "solution": false
    }
   },
   "outputs": [],
   "source": [
    "###\n",
    "### AUTOGRADER TEST - DO NOT REMOVE\n",
    "###\n"
   ]
  },
  {
   "cell_type": "markdown",
   "metadata": {
    "deletable": false,
    "editable": false,
    "nbgrader": {
     "grade": false,
     "locked": true,
     "solution": false
    }
   },
   "source": [
    "__5.__ Complete the following tconst with an SQL query to do the following:\n",
    "\n",
    "From the productions that are released in __more than 10 languages__ in the *titles* table, select the *TCONST*"
   ]
  },
  {
   "cell_type": "code",
   "execution_count": 102,
   "metadata": {},
   "outputs": [
    {
     "data": {
      "text/html": [
       "<div>\n",
       "<style scoped>\n",
       "    .dataframe tbody tr th:only-of-type {\n",
       "        vertical-align: middle;\n",
       "    }\n",
       "\n",
       "    .dataframe tbody tr th {\n",
       "        vertical-align: top;\n",
       "    }\n",
       "\n",
       "    .dataframe thead th {\n",
       "        text-align: right;\n",
       "    }\n",
       "</style>\n",
       "<table border=\"1\" class=\"dataframe\">\n",
       "  <thead>\n",
       "    <tr style=\"text-align: right;\">\n",
       "      <th></th>\n",
       "      <th>0</th>\n",
       "    </tr>\n",
       "  </thead>\n",
       "  <tbody>\n",
       "    <tr>\n",
       "      <th>0</th>\n",
       "      <td>82</td>\n",
       "    </tr>\n",
       "    <tr>\n",
       "      <th>1</th>\n",
       "      <td>82</td>\n",
       "    </tr>\n",
       "    <tr>\n",
       "      <th>2</th>\n",
       "      <td>64</td>\n",
       "    </tr>\n",
       "    <tr>\n",
       "      <th>3</th>\n",
       "      <td>28</td>\n",
       "    </tr>\n",
       "    <tr>\n",
       "      <th>4</th>\n",
       "      <td>81</td>\n",
       "    </tr>\n",
       "    <tr>\n",
       "      <th>...</th>\n",
       "      <td>...</td>\n",
       "    </tr>\n",
       "    <tr>\n",
       "      <th>7550</th>\n",
       "      <td>17</td>\n",
       "    </tr>\n",
       "    <tr>\n",
       "      <th>7551</th>\n",
       "      <td>14</td>\n",
       "    </tr>\n",
       "    <tr>\n",
       "      <th>7552</th>\n",
       "      <td>13</td>\n",
       "    </tr>\n",
       "    <tr>\n",
       "      <th>7553</th>\n",
       "      <td>13</td>\n",
       "    </tr>\n",
       "    <tr>\n",
       "      <th>7554</th>\n",
       "      <td>13</td>\n",
       "    </tr>\n",
       "  </tbody>\n",
       "</table>\n",
       "<p>7555 rows × 1 columns</p>\n",
       "</div>"
      ],
      "text/plain": [
       "       0\n",
       "0     82\n",
       "1     82\n",
       "2     64\n",
       "3     28\n",
       "4     81\n",
       "...   ..\n",
       "7550  17\n",
       "7551  14\n",
       "7552  13\n",
       "7553  13\n",
       "7554  13\n",
       "\n",
       "[7555 rows x 1 columns]"
      ]
     },
     "execution_count": 102,
     "metadata": {},
     "output_type": "execute_result"
    }
   ],
   "source": [
    "tconst =c.execute('''SELECT COUNT(tconst) from titles GROUP BY title HAVING COUNT(language)>10  ''')\n",
    "pd.DataFrame(tconst)"
   ]
  },
  {
   "cell_type": "code",
   "execution_count": 103,
   "metadata": {
    "collapsed": true
   },
   "outputs": [],
   "source": [
    "###\n",
    "### AUTOGRADER TEST - DO NOT REMOVE\n",
    "###\n"
   ]
  },
  {
   "cell_type": "markdown",
   "metadata": {
    "collapsed": true,
    "deletable": false,
    "editable": false,
    "nbgrader": {
     "grade": false,
     "locked": true,
     "solution": false
    }
   },
   "source": [
    "__6.__ Write Python code to plot a histogram showing the number of TV Specials released over the years in *productions.csv*. Use the plot function from pandas.\n"
   ]
  },
  {
   "cell_type": "code",
   "execution_count": 104,
   "metadata": {
    "scrolled": true
   },
   "outputs": [
    {
     "data": {
      "text/html": [
       "<div>\n",
       "<style scoped>\n",
       "    .dataframe tbody tr th:only-of-type {\n",
       "        vertical-align: middle;\n",
       "    }\n",
       "\n",
       "    .dataframe tbody tr th {\n",
       "        vertical-align: top;\n",
       "    }\n",
       "\n",
       "    .dataframe thead th {\n",
       "        text-align: right;\n",
       "    }\n",
       "</style>\n",
       "<table border=\"1\" class=\"dataframe\">\n",
       "  <thead>\n",
       "    <tr style=\"text-align: right;\">\n",
       "      <th></th>\n",
       "      <th>a</th>\n",
       "      <th>b</th>\n",
       "    </tr>\n",
       "  </thead>\n",
       "  <tbody>\n",
       "    <tr>\n",
       "      <th>0</th>\n",
       "      <td>2018</td>\n",
       "      <td>101.0</td>\n",
       "    </tr>\n",
       "    <tr>\n",
       "      <th>1</th>\n",
       "      <td>2019</td>\n",
       "      <td>133.0</td>\n",
       "    </tr>\n",
       "    <tr>\n",
       "      <th>2</th>\n",
       "      <td>2017</td>\n",
       "      <td>709.0</td>\n",
       "    </tr>\n",
       "    <tr>\n",
       "      <th>3</th>\n",
       "      <td>2020</td>\n",
       "      <td>34.0</td>\n",
       "    </tr>\n",
       "  </tbody>\n",
       "</table>\n",
       "</div>"
      ],
      "text/plain": [
       "      a      b\n",
       "0  2018  101.0\n",
       "1  2019  133.0\n",
       "2  2017  709.0\n",
       "3  2020   34.0"
      ]
     },
     "execution_count": 104,
     "metadata": {},
     "output_type": "execute_result"
    },
    {
     "data": {
      "image/png": "[encoded data removed]",
      "text/plain": [
       "<Figure size 432x288 with 1 Axes>"
      ]
     },
     "metadata": {
      "needs_background": "light"
     },
     "output_type": "display_data"
    }
   ],
   "source": [
    "### Your code here ###\n",
    "\n",
    "spec=c.execute(''' SELECT COUNT (title_Type) from productions Where title_type='tvSpecial' GROUP BY start_Year''')\n",
    "x=pd.DataFrame(spec)\n",
    "x.dropna(inplace=True)\n",
    "year=c.execute(''' SELECT DISTINCT start_Year from productions''')\n",
    "y=pd.DataFrame(year)\n",
    "y.dropna(inplace=True)\n",
    "df = pd.concat([y, x], axis=1)\n",
    "df.columns={'a','b'}\n",
    "df.dropna(inplace=True)\n",
    "df.plot( x='b', kind='hist',bins=30)\n",
    "df"
   ]
  },
  {
   "cell_type": "markdown",
   "metadata": {
    "deletable": false,
    "editable": false,
    "nbgrader": {
     "grade": false,
     "locked": true,
     "solution": false
    }
   },
   "source": [
    "__7.__ Write Python code to create a smaller dataframe consisting only of videos started in or before 2018 in *productions.csv*, and with two columns, *startYear* and *runtimeMinutes*. Then apply the boxplot method in *pandas* to see the median and spread of the runtimeMinutes of videos each year on or before 2018. Since you want one boxplot for each year, you will have to use the ‘by’ option.\n"
   ]
  },
  {
   "cell_type": "code",
   "execution_count": 105,
   "metadata": {},
   "outputs": [
    {
     "name": "stdout",
     "output_type": "stream",
     "text": [
      "59460.0\n"
     ]
    },
    {
     "data": {
      "image/png": "[encoded data removed]",
      "text/plain": [
       "<Figure size 432x288 with 1 Axes>"
      ]
     },
     "metadata": {
      "needs_background": "light"
     },
     "output_type": "display_data"
    }
   ],
   "source": [
    "### Your code here ###\n",
    "\n",
    "spec=c.execute(''' SELECT start_Year, RUNTIME_MINUTES from productions Where start_Year>=2018''')\n",
    "x=pd.DataFrame(spec,columns=['start_Year','RUNTIME_MINUTES'])\n",
    "nan_value = float(\"NaN\")\n",
    "x.replace(\"\", nan_value, inplace=True)\n",
    "x.dropna(inplace=True)\n",
    "x.boxplot(column='RUNTIME_MINUTES',by='start_Year')\n",
    "print(x['RUNTIME_MINUTES'].max())"
   ]
  },
  {
   "cell_type": "code",
   "execution_count": null,
   "metadata": {
    "collapsed": true
   },
   "outputs": [],
   "source": []
  },
  {
   "cell_type": "code",
   "execution_count": null,
   "metadata": {
    "collapsed": true
   },
   "outputs": [],
   "source": []
  },
  {
   "cell_type": "code",
   "execution_count": null,
   "metadata": {
    "collapsed": true
   },
   "outputs": [],
   "source": []
  }
 ],
 "metadata": {
  "kernelspec": {
   "display_name": "Python 3 [3.7]",
   "language": "python",
   "name": "python3"
  },
  "language_info": {
   "codemirror_mode": {
    "name": "ipython",
    "version": 3
   },
   "file_extension": ".py",
   "mimetype": "text/x-python",
   "name": "python",
   "nbconvert_exporter": "python",
   "pygments_lexer": "ipython3",
   "version": "3.7.5"
  }
 },
 "nbformat": 4,
 "nbformat_minor": 2
}
