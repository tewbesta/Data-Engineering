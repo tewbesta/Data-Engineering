{
 "cells": [
  {
   "cell_type": "markdown",
   "metadata": {
    "deletable": false,
    "editable": false,
    "nbgrader": {
     "grade": false,
     "locked": true,
     "solution": false
    }
   },
   "source": [
    "In this homework, the questions on plots will be graded manually, and all remaining questions will be auto-graded."
   ]
  },
  {
   "cell_type": "markdown",
   "metadata": {
    "deletable": false,
    "editable": false,
    "nbgrader": {
     "grade": false,
     "locked": true,
     "solution": false
    }
   },
   "source": [
    "## Q1: Regular Expressions (6 points)"
   ]
  },
  {
   "cell_type": "code",
   "execution_count": 82,
   "metadata": {
    "collapsed": true,
    "deletable": false,
    "editable": false,
    "nbgrader": {
     "grade": false,
     "locked": true,
     "solution": false
    }
   },
   "outputs": [],
   "source": [
    "# Import the 're' package in python for this question. \n",
    "import re"
   ]
  },
  {
   "cell_type": "markdown",
   "metadata": {
    "deletable": false,
    "editable": false,
    "nbgrader": {
     "grade": false,
     "locked": true,
     "solution": false
    }
   },
   "source": [
    "(a) Write a regular expression to check if an input string contains a sequence of digits (of any length)."
   ]
  },
  {
   "cell_type": "code",
   "execution_count": 83,
   "metadata": {},
   "outputs": [
    {
     "name": "stdout",
     "output_type": "stream",
     "text": [
      "True\n",
      "False\n"
     ]
    }
   ],
   "source": [
    "# checkDigitSequence(string) takes as input a string containing zero or more sequences \n",
    "# of digits and returns a boolean value which is True if the string contains at least \n",
    "# one sequence, and False if no such sequence is found. \n",
    "\n",
    "def checkDigitSequence(string):\n",
    "    \n",
    "    ###\n",
    "    ### YOUR CODE HERE\n",
    "    ###\n",
    "    pattern=re.compile(r\"\\d\")\n",
    "    x=(re.findall(pattern,string))\n",
    "    if len(x)==0:\n",
    "        return False\n",
    "    else:\n",
    "        return True        \n",
    "# Example Test Q1a\n",
    "print( checkDigitSequence('My number is 987654321 and my friend\\'s number is 123456789') )\n",
    "# output: True\n",
    "\n",
    "print( checkDigitSequence('Hello World!') )\n",
    "# output: False"
   ]
  },
  {
   "cell_type": "code",
   "execution_count": 84,
   "metadata": {
    "collapsed": true,
    "deletable": false,
    "editable": false,
    "nbgrader": {
     "grade": true,
     "grade_id": "Q1a:checkDigitSequence_0",
     "locked": true,
     "points": "1",
     "solution": false
    }
   },
   "outputs": [],
   "source": [
    "###\n",
    "### AUTOGRADER TEST - DO NOT REMOVE\n",
    "###\n"
   ]
  },
  {
   "cell_type": "code",
   "execution_count": 85,
   "metadata": {
    "collapsed": true,
    "deletable": false,
    "editable": false,
    "nbgrader": {
     "grade": true,
     "grade_id": "Q1a:checkDigitSequence_1",
     "locked": true,
     "points": "1",
     "solution": false
    }
   },
   "outputs": [],
   "source": [
    "###\n",
    "### AUTOGRADER TEST - DO NOT REMOVE\n",
    "###\n"
   ]
  },
  {
   "cell_type": "code",
   "execution_count": 86,
   "metadata": {
    "collapsed": true,
    "deletable": false,
    "editable": false,
    "nbgrader": {
     "grade": true,
     "grade_id": "Q1a:checkDigitSequence_2",
     "locked": true,
     "points": "1",
     "solution": false
    }
   },
   "outputs": [],
   "source": [
    "###\n",
    "### AUTOGRADER TEST - DO NOT REMOVE\n",
    "###\n"
   ]
  },
  {
   "cell_type": "markdown",
   "metadata": {
    "deletable": false,
    "editable": false,
    "nbgrader": {
     "grade": false,
     "locked": true,
     "solution": false
    }
   },
   "source": [
    "(b) Write a regular expression to find all sequences of digits (of any length) in an input string."
   ]
  },
  {
   "cell_type": "code",
   "execution_count": 87,
   "metadata": {},
   "outputs": [
    {
     "name": "stdout",
     "output_type": "stream",
     "text": [
      "['123456789', '987654321']\n",
      "None\n"
     ]
    }
   ],
   "source": [
    "# findDigitSequence(string) takes as input a string containing zero or more sequences \n",
    "# of digits and returns a list of all sequences in the string. The output list must \n",
    "# be sorted in the increasing order. You can use the 'sorted' function in python for \n",
    "# sorting the list. If no sequence is present, then the function should return 'None'. \n",
    "\n",
    "def findDigitSequence(string):\n",
    "    \n",
    "    ###\n",
    "    ### YOUR CODE HERE\n",
    "    ###\n",
    "    pattern=re.compile(r\"[\\d]*\\S[^\\D]\")\n",
    "    x=(re.findall(pattern,string))\n",
    "    if len(x)!=0:\n",
    "        x.sort()\n",
    "        return x\n",
    "    else:\n",
    "        return None\n",
    "    \n",
    "# Example Test Q1b\n",
    "print( findDigitSequence(\"My number is 987654321 and my friend\\'s number is 123456789.\") )\n",
    "# output ['123456789', '987654321']\n",
    "\n",
    "print( findDigitSequence(\"Hello World!\") )\n",
    "# output None"
   ]
  },
  {
   "cell_type": "code",
   "execution_count": 88,
   "metadata": {
    "collapsed": true,
    "deletable": false,
    "editable": false,
    "nbgrader": {
     "grade": true,
     "grade_id": "Q1b:findDigitSequence_0",
     "locked": true,
     "points": "1",
     "solution": false
    }
   },
   "outputs": [],
   "source": [
    "###\n",
    "### AUTOGRADER TEST - DO NOT REMOVE\n",
    "###\n"
   ]
  },
  {
   "cell_type": "code",
   "execution_count": 89,
   "metadata": {
    "collapsed": true,
    "deletable": false,
    "editable": false,
    "nbgrader": {
     "grade": true,
     "grade_id": "Q1b:findDigitSequence_1",
     "locked": true,
     "points": "1",
     "solution": false
    }
   },
   "outputs": [],
   "source": [
    "###\n",
    "### AUTOGRADER TEST - DO NOT REMOVE\n",
    "###\n"
   ]
  },
  {
   "cell_type": "code",
   "execution_count": 90,
   "metadata": {
    "collapsed": true,
    "deletable": false,
    "editable": false,
    "nbgrader": {
     "grade": true,
     "grade_id": "Q1b:findDigitSequence_2",
     "locked": true,
     "points": "1",
     "solution": false
    }
   },
   "outputs": [],
   "source": [
    "###\n",
    "### AUTOGRADER TEST - DO NOT REMOVE\n",
    "###\n"
   ]
  },
  {
   "cell_type": "markdown",
   "metadata": {
    "deletable": false,
    "editable": false,
    "nbgrader": {
     "grade": false,
     "locked": true,
     "solution": false
    }
   },
   "source": [
    "(c) Write a regular expression to find \"proper case words\" in an input string. Proper case words have their first letter capitalized and the remaining characters are lower case alpha-numeric characters. (Assume words are separated by a whitespace). "
   ]
  },
  {
   "cell_type": "code",
   "execution_count": 91,
   "metadata": {},
   "outputs": [
    {
     "name": "stdout",
     "output_type": "stream",
     "text": [
      "['Data', 'Introduction', 'Science', 'We']\n",
      "None\n"
     ]
    }
   ],
   "source": [
    "# findProperCase(string) takes an input string, and returns a list of all words in the \n",
    "# string that have their first letter capitalized followed by any number of lower case alpha-numeric \n",
    "# characters. The output list must be sorted in the increasing lexicographic order. \n",
    "# You can use the 'sorted' function in python for sorting the list. If no such word \n",
    "# is present in the given string, then the function should return 'None'.\n",
    "\n",
    "def findProperCase(string):    \n",
    "    ###\n",
    "    ### YOUR CODE HERE\n",
    "    ### \n",
    "    pattern=re.compile(r\"[A-Z][a-z0-9]*\")\n",
    "    x=(re.findall(pattern,string))\n",
    "    if len(x)!=0:\n",
    "        x.sort()\n",
    "        return x\n",
    "    else:\n",
    "        return None\n",
    "\n",
    "# Example Test Q1c\n",
    "print( findProperCase('We are studying the course Introduction to Data Science.') )\n",
    "# output: ['Data', 'Introduction', 'Science', 'We']\n",
    "\n",
    "print( findProperCase('today is our fourth lab assignment') )\n",
    "# output: None"
   ]
  },
  {
   "cell_type": "code",
   "execution_count": 92,
   "metadata": {
    "collapsed": true,
    "deletable": false,
    "editable": false,
    "nbgrader": {
     "grade": true,
     "grade_id": "Q1c:findProperCase_0",
     "locked": true,
     "points": "1",
     "solution": false
    }
   },
   "outputs": [],
   "source": [
    "###\n",
    "### AUTOGRADER TEST - DO NOT REMOVE\n",
    "###\n"
   ]
  },
  {
   "cell_type": "code",
   "execution_count": 93,
   "metadata": {
    "collapsed": true,
    "deletable": false,
    "editable": false,
    "nbgrader": {
     "grade": true,
     "grade_id": "Q1c:findProperCase_1",
     "locked": true,
     "points": "1",
     "solution": false
    }
   },
   "outputs": [],
   "source": [
    "###\n",
    "### AUTOGRADER TEST - DO NOT REMOVE\n",
    "###\n"
   ]
  },
  {
   "cell_type": "code",
   "execution_count": 94,
   "metadata": {
    "collapsed": true,
    "deletable": false,
    "editable": false,
    "nbgrader": {
     "grade": true,
     "grade_id": "Q1c:findProperCase_2",
     "locked": true,
     "points": "1",
     "solution": false
    }
   },
   "outputs": [],
   "source": [
    "###\n",
    "### AUTOGRADER TEST - DO NOT REMOVE\n",
    "###\n"
   ]
  },
  {
   "cell_type": "markdown",
   "metadata": {
    "deletable": false,
    "editable": false,
    "nbgrader": {
     "grade": false,
     "locked": true,
     "solution": false
    }
   },
   "source": [
    "(d) Define a \"proper case word-number\" sequence as follows: a proper case word (as defined above) followed by a whitespace character and then sequence of 1 or more digits (e.g., January 15).\n",
    "\n",
    "Write a regular expression to check if an input string contains a \"proper case word number\" sequence."
   ]
  },
  {
   "cell_type": "code",
   "execution_count": 95,
   "metadata": {},
   "outputs": [
    {
     "name": "stdout",
     "output_type": "stream",
     "text": [
      "True\n",
      "False\n"
     ]
    }
   ],
   "source": [
    "# checkProperCaseWordNumSeq(string) takes an input string and returns a boolean value \n",
    "# which is True if the string contains a proper case word-number sequence as defined \n",
    "# above and False if no such sequence is found. \n",
    "def checkProperCaseWordNumSeq(string):\n",
    "    ###\n",
    "    ### YOUR CODE HERE\n",
    "    ###\n",
    "    pattern=re.compile(r\"[A-Z][a-z]*[\\s]\\d+\")\n",
    "    x=(re.findall(pattern,string))\n",
    "    if len(x)!=0:\n",
    "        x.sort()\n",
    "        return True\n",
    "    else:\n",
    "        return False\n",
    "      \n",
    "# Example Test Q1d\n",
    "print( checkProperCaseWordNumSeq('I was born on January 15') )\n",
    "# output: True\n",
    "    \n",
    "print( checkProperCaseWordNumSeq('I was born on January fifteen') )\n",
    "#output: False"
   ]
  },
  {
   "cell_type": "code",
   "execution_count": 96,
   "metadata": {
    "collapsed": true,
    "deletable": false,
    "editable": false,
    "nbgrader": {
     "grade": true,
     "grade_id": "Q1d:checkWordNumSeq_0",
     "locked": true,
     "points": "1",
     "solution": false
    }
   },
   "outputs": [],
   "source": [
    "###\n",
    "### AUTOGRADER TEST - DO NOT REMOVE\n",
    "###\n"
   ]
  },
  {
   "cell_type": "code",
   "execution_count": 97,
   "metadata": {
    "collapsed": true,
    "deletable": false,
    "editable": false,
    "nbgrader": {
     "grade": true,
     "grade_id": "Q1d:checkWordNumSeq_1",
     "locked": true,
     "points": "1",
     "solution": false
    }
   },
   "outputs": [],
   "source": [
    "###\n",
    "### AUTOGRADER TEST - DO NOT REMOVE\n",
    "###\n"
   ]
  },
  {
   "cell_type": "code",
   "execution_count": 98,
   "metadata": {
    "collapsed": true,
    "deletable": false,
    "editable": false,
    "nbgrader": {
     "grade": true,
     "grade_id": "Q1d:checkWordNumSeq_2",
     "locked": true,
     "points": "1",
     "solution": false
    }
   },
   "outputs": [],
   "source": [
    "###\n",
    "### AUTOGRADER TEST - DO NOT REMOVE\n",
    "###\n"
   ]
  },
  {
   "cell_type": "markdown",
   "metadata": {
    "deletable": false,
    "editable": false,
    "nbgrader": {
     "grade": false,
     "locked": true,
     "solution": false
    }
   },
   "source": [
    "(e) Find all words that correspond to months of the year (e.g., 'January', 'February', etc) in an input string and replace them with their numerical representation (e.g., 01, 02, etc). Return the resulting output string. \n",
    "\n",
    "Note: If the input does not contain any months, then the output string will be the same as the input string."
   ]
  },
  {
   "cell_type": "code",
   "execution_count": 99,
   "metadata": {},
   "outputs": [
    {
     "name": "stdout",
     "output_type": "stream",
     "text": [
      "I was born on 06 24 and my sister was born on 05 17\n",
      "This is a string without a month in it\n"
     ]
    }
   ],
   "source": [
    "# transformMonths(string) takes an input string, finds all the proper case references to \n",
    "# months of the year, tranforms them to a numerical representation and returns the result.\n",
    "months = ['January', 'February', 'March', 'April', 'May', 'June', 'July',\n",
    "          'August', 'September', 'October', 'November', 'December']\n",
    "\n",
    "def transformMonths(string):\n",
    "    ###\n",
    "    ### YOUR CODE HERE\n",
    "    ###\n",
    "    pattern=re.compile(r\"January|February|March|April|May|June|July|August|September|October|November|December\")\n",
    "    x=(re.findall(pattern,string))\n",
    "    if len(x)!=0:\n",
    "        for j in range(len(x)):       \n",
    "            for i in range(len(months)):\n",
    "                if(x[j]==months[i]):    \n",
    "                  \n",
    "                    y=(str(i+1).zfill(2))\n",
    "                    string=string.replace(x[j],y)   \n",
    "            \n",
    "                else:\n",
    "                    continue\n",
    "    return string\n",
    "   \n",
    "\n",
    "# Example Test Q1e\n",
    "print( transformMonths('I was born on June 24 and my sister was born on May 17') )\n",
    "# output: 'I was born on 06 24 and my sister was born on 05 17'\n",
    "\n",
    "print( transformMonths('This is a string without a month in it') )\n",
    "# output: 'This is a string without a month in it'"
   ]
  },
  {
   "cell_type": "code",
   "execution_count": 100,
   "metadata": {
    "collapsed": true,
    "deletable": false,
    "editable": false,
    "nbgrader": {
     "grade": true,
     "grade_id": "Q1e:transformMonths_0",
     "locked": true,
     "points": "1",
     "solution": false
    }
   },
   "outputs": [],
   "source": [
    "###\n",
    "### AUTOGRADER TEST - DO NOT REMOVE\n",
    "###\n"
   ]
  },
  {
   "cell_type": "code",
   "execution_count": 101,
   "metadata": {
    "collapsed": true,
    "deletable": false,
    "editable": false,
    "nbgrader": {
     "grade": true,
     "grade_id": "Q1e:transformMonths_1",
     "locked": true,
     "points": "1",
     "solution": false
    }
   },
   "outputs": [],
   "source": [
    "###\n",
    "### AUTOGRADER TEST - DO NOT REMOVE\n",
    "###\n"
   ]
  },
  {
   "cell_type": "code",
   "execution_count": 102,
   "metadata": {
    "collapsed": true,
    "deletable": false,
    "editable": false,
    "nbgrader": {
     "grade": true,
     "grade_id": "Q1e:transformMonths_2",
     "locked": true,
     "points": "1",
     "solution": false
    }
   },
   "outputs": [],
   "source": [
    "###\n",
    "### AUTOGRADER TEST - DO NOT REMOVE\n",
    "###\n"
   ]
  },
  {
   "cell_type": "markdown",
   "metadata": {
    "deletable": false,
    "editable": false,
    "nbgrader": {
     "grade": false,
     "locked": true,
     "solution": false
    }
   },
   "source": [
    "(f) Given an input file, determine how many lines in the file contain a clause (delinated by two commas followed by a space, i.e. ', '). Note the full clause must be contained on a single line to be considered a match. If the clause is split across two lines, do not count it."
   ]
  },
  {
   "cell_type": "code",
   "execution_count": 103,
   "metadata": {},
   "outputs": [
    {
     "data": {
      "text/plain": [
       "8"
      ]
     },
     "execution_count": 103,
     "metadata": {},
     "output_type": "execute_result"
    }
   ],
   "source": [
    "# countClauses(filename) takes an input filename, and returns the number of lines \n",
    "# containing a clause separated by commas.\n",
    "def countClauses(filename):\n",
    "    count = 0\n",
    "    pattern=re.compile(r\", [a-zA-Z\\s$&+:;=?@#|<>.^*()%!-,']+, \")\n",
    "    f = open(filename, \"r\")\n",
    "    filename = f.readlines()\n",
    "    f.close()\n",
    "    count=0\n",
    "    for line in filename:\n",
    "        x=re.findall(pattern,line)\n",
    "        if(len(x)!=0):\n",
    "            count=count+1\n",
    "      \n",
    "    return count\n",
    "    ###\n",
    "    ### YOUR CODE HERE\n",
    "    ###\n",
    "\n",
    "# Example Test Q1f\n",
    "countClauses('raven-poem_demo.txt')\n",
    "# output: 8"
   ]
  },
  {
   "cell_type": "code",
   "execution_count": 104,
   "metadata": {
    "collapsed": true,
    "deletable": false,
    "editable": false,
    "nbgrader": {
     "grade": true,
     "grade_id": "Q1f:countClauses0",
     "locked": true,
     "points": "1",
     "solution": false
    }
   },
   "outputs": [],
   "source": [
    "###\n",
    "### AUTOGRADER TEST - DO NOT REMOVE\n",
    "###\n"
   ]
  },
  {
   "cell_type": "code",
   "execution_count": 105,
   "metadata": {
    "collapsed": true,
    "deletable": false,
    "editable": false,
    "nbgrader": {
     "grade": true,
     "grade_id": "Q1f:countClauses1",
     "locked": true,
     "points": "2",
     "solution": false
    }
   },
   "outputs": [],
   "source": [
    "###\n",
    "### AUTOGRADER TEST - DO NOT REMOVE\n",
    "###\n"
   ]
  },
  {
   "cell_type": "markdown",
   "metadata": {
    "deletable": false,
    "editable": false,
    "nbgrader": {
     "grade": false,
     "locked": true,
     "solution": false
    }
   },
   "source": [
    "## Q2: Sampling (4 points)"
   ]
  },
  {
   "cell_type": "markdown",
   "metadata": {
    "deletable": false,
    "editable": false,
    "nbgrader": {
     "grade": false,
     "locked": true,
     "solution": false
    }
   },
   "source": [
    "Consider the dataset 'bush-gore-results-fl_demo.csv'. Construct 20 different samples of counties, by randomly sampling the 10 out of the 50 rows. For each sample, calculate the total votes received by each specified candidate, and return the average across the 20 samples for each candidate. \n",
    "\n",
    "Unless specified otherwise, use the sample() function in pandas and set the 'random_state' parameter to the ith sample number to faciliate testing, i.e., for the fist sample use random_state=0, for the second sample use random_state=1, etc.\n"
   ]
  },
  {
   "cell_type": "markdown",
   "metadata": {
    "deletable": false,
    "editable": false,
    "nbgrader": {
     "grade": false,
     "locked": true,
     "solution": false
    }
   },
   "source": [
    "(a) Using sampling with replacement, create samples for following candidates: ['brow', 'nade', 'harr', 'hage', 'buch', 'mcre', 'phil', 'moor'], and return the mean of the total votes for each candidate."
   ]
  },
  {
   "cell_type": "code",
   "execution_count": 106,
   "metadata": {},
   "outputs": [
    {
     "data": {
      "text/plain": [
       "[3593.55, 16358.95, 1085.7, 1310.9, 3844.9, 1111.2, 1221.55, 1281.8]"
      ]
     },
     "execution_count": 106,
     "metadata": {},
     "output_type": "execute_result"
    }
   ],
   "source": [
    "# sampleWithReplacement(filename) takes as input the filename, samples with replacement \n",
    "# 20 samples of size 10, and returns the mean of the total votes for each candidate as  \n",
    "# a list, in the order of the candidates given above.\n",
    "import pandas as pd\n",
    "def sampleWithReplacement(filename):\n",
    "   data = pd.read_csv(filename)\n",
    "   sum=0\n",
    "   for i in range(20):\n",
    "       x=data.sample(10,random_state=i,replace=True)\n",
    "       sum= x.iloc[:,13:].sum() +sum\n",
    "   return list(sum.values/20)\n",
    "    \n",
    "    ###\n",
    "    ### YOUR CODE HERE\n",
    "    ###\n",
    "\n",
    "# Example Test Q2a\n",
    "sampleWithReplacement('bush-gore-results-fl_demo.csv')\n",
    "# output:  [3593.55, 16358.95, 1085.7, 1310.9, 3844.9, 1111.2, 1221.55, 1281.8 ]"
   ]
  },
  {
   "cell_type": "code",
   "execution_count": 107,
   "metadata": {
    "collapsed": true,
    "deletable": false,
    "editable": false,
    "nbgrader": {
     "grade": true,
     "grade_id": "Q2a:sampleWithReplacement0",
     "locked": true,
     "points": "1",
     "solution": false
    }
   },
   "outputs": [],
   "source": [
    "###\n",
    "### AUTOGRADER TEST - DO NOT REMOVE\n",
    "###\n"
   ]
  },
  {
   "cell_type": "code",
   "execution_count": 108,
   "metadata": {
    "collapsed": true,
    "deletable": false,
    "editable": false,
    "nbgrader": {
     "grade": true,
     "grade_id": "Q2a:sampleWithReplacement1",
     "locked": true,
     "points": "2",
     "solution": false
    }
   },
   "outputs": [],
   "source": [
    "###\n",
    "### AUTOGRADER TEST - DO NOT REMOVE\n",
    "###\n"
   ]
  },
  {
   "cell_type": "markdown",
   "metadata": {
    "deletable": false,
    "editable": false,
    "nbgrader": {
     "grade": false,
     "locked": true,
     "solution": false
    }
   },
   "source": [
    "(b) Using sampling with replacement, create samples for following candidates: ['bush', 'gore'], and show a boxplot with candidates on x axis and the total number of votes (for the different samples) on y-axis. For this part, consider the dataset in file 'bush-gore-results-fl_demo.csv'."
   ]
  },
  {
   "cell_type": "code",
   "execution_count": 109,
   "metadata": {},
   "outputs": [
    {
     "data": {
      "image/png": "[encoded data removed]",
      "text/plain": [
       "<Figure size 720x504 with 1 Axes>"
      ]
     },
     "metadata": {},
     "output_type": "display_data"
    }
   ],
   "source": [
    "###\n",
    "### YOUR CODE HERE\n",
    "###\n",
    "import matplotlib.pyplot as plt\n",
    "data = pd.read_csv('bush-gore-results-fl_demo.csv')\n",
    "ls= {\"bush\":[],\"gore\":[]};\n",
    "\n",
    "for i in range(20):\n",
    "    x=data.sample(10,replace=True,random_state=i)\n",
    "    x=x.loc[:,'bush':'gore']\n",
    "  \n",
    "    sumbush=x.bush.sum()\n",
    "    ls['bush'].append(sumbush)\n",
    "    sumgore=x.gore.sum()\n",
    "    ls['gore'].append(sumgore)\n",
    "\n",
    "#plt.figure()\n",
    "#plt.xlabel('bush','gore')\n",
    "\n",
    "fig = plt.figure(figsize =(10, 7))\n",
    "ax = fig.add_axes([0, 0,1,1])\n",
    "\n",
    "bp = ax.boxplot([ls['bush'],ls['gore']])\n",
    "ax.set_xticklabels(['bush', 'gore'])\n",
    "plt.title(\"total number of votes per sample\")\n",
    "\n",
    " \n",
    "# Creating plot\n",
    "\n",
    "plt.show()\n",
    "\n",
    "   "
   ]
  },
  {
   "cell_type": "markdown",
   "metadata": {
    "deletable": false,
    "editable": false,
    "nbgrader": {
     "grade": false,
     "locked": true,
     "solution": false
    }
   },
   "source": [
    "(c) Now use sampling without replacement to create samples for following candidates: ['brow', 'nade', 'harr', 'hage', 'buch', 'mcre', 'phil', 'moor'], and return the mean of the total votes for each candidate."
   ]
  },
  {
   "cell_type": "code",
   "execution_count": 110,
   "metadata": {},
   "outputs": [
    {
     "data": {
      "text/plain": [
       "[3346.85, 15555.7, 1088.35, 1352.95, 3277.45, 1066.0, 1175.75, 1273.1]"
      ]
     },
     "execution_count": 110,
     "metadata": {},
     "output_type": "execute_result"
    }
   ],
   "source": [
    "# sampleWithoutReplacement(filename) takes as input the filename, samples without \n",
    "# replacement 20 samples of size 10, and returns the mean of the total votes for each \n",
    "# candidate as a list, in the order of the candidates given above.\n",
    "import pandas as pd\n",
    "def sampleWithoutReplacement(filename):   \n",
    "    ###\n",
    "    ### YOUR CODE HERE\n",
    "    ###\n",
    "    sum=0\n",
    "    data = pd.read_csv(filename)\n",
    "    for i in range(20):\n",
    "        x=data.sample(10,random_state=i)\n",
    "        sum=x.iloc[:,13:].sum()+sum\n",
    "    return list(sum.values/20)\n",
    "\n",
    "# Example Test Q2c\n",
    "sampleWithoutReplacement('bush-gore-results-fl_demo.csv')\n",
    "# output: [3346.85, 15555.7, 1088.35, 1352.95, 3277.45, 1066.0, 1175.75, 1273.1]"
   ]
  },
  {
   "cell_type": "code",
   "execution_count": 111,
   "metadata": {
    "collapsed": true,
    "deletable": false,
    "editable": false,
    "nbgrader": {
     "grade": true,
     "grade_id": "Q2b:sampleWithoutReplacement0",
     "locked": true,
     "points": "1",
     "solution": false
    }
   },
   "outputs": [],
   "source": [
    "###\n",
    "### AUTOGRADER TEST - DO NOT REMOVE\n",
    "###\n"
   ]
  },
  {
   "cell_type": "code",
   "execution_count": 112,
   "metadata": {
    "collapsed": true,
    "deletable": false,
    "editable": false,
    "nbgrader": {
     "grade": true,
     "grade_id": "Q2b:sampleWithoutReplacement1",
     "locked": true,
     "points": "2",
     "solution": false
    }
   },
   "outputs": [],
   "source": [
    "###\n",
    "### AUTOGRADER TEST - DO NOT REMOVE\n",
    "###\n"
   ]
  },
  {
   "cell_type": "markdown",
   "metadata": {
    "deletable": false,
    "editable": false,
    "nbgrader": {
     "grade": false,
     "locked": true,
     "solution": false
    }
   },
   "source": [
    "(d) Using sampling without replacement, create samples for following candidates: ['bush', 'gore'], and show a boxplot with the candidates on x axis and the total number of votes (for the different samples) on y-axis. For this part, consider the dataset in file 'bush-gore-results-fl_demo.csv'."
   ]
  },
  {
   "cell_type": "code",
   "execution_count": 113,
   "metadata": {},
   "outputs": [
    {
     "data": {
      "image/png": "[encoded data removed]",
      "text/plain": [
       "<Figure size 720x504 with 1 Axes>"
      ]
     },
     "metadata": {},
     "output_type": "display_data"
    }
   ],
   "source": [
    "###\n",
    "### YOUR CODE HERE\n",
    "###\n",
    "import matplotlib.pyplot as plt\n",
    "data = pd.read_csv('bush-gore-results-fl_demo.csv')\n",
    "ls= {\"bush\":[],\"gore\":[]};\n",
    "\n",
    "for i in range(20):\n",
    "    x=data.sample(10,random_state=i)\n",
    "    x=x.loc[:,['bush','gore']]\n",
    "    sumbush=x.bush.sum()\n",
    "    ls['bush'].append(sumbush)\n",
    "    sumgore=x.gore.sum()\n",
    "    ls['gore'].append(sumgore)\n",
    "\n",
    "#plt.figure()\n",
    "#plt.xlabel('bush','gore')\n",
    "\n",
    "fig = plt.figure(figsize =(10, 7))\n",
    "ax = fig.add_axes([0, 0,1,1])\n",
    "\n",
    "bp = ax.boxplot([ls['bush'],ls['gore']])\n",
    "ax.set_xticklabels(['bush', 'gore'])\n",
    "plt.title(\"total number of votes per sample\")\n",
    "\n",
    " \n",
    "# Creating plot\n",
    "\n",
    "plt.show()\n",
    "\n",
    "   "
   ]
  },
  {
   "cell_type": "markdown",
   "metadata": {
    "deletable": false,
    "editable": false,
    "nbgrader": {
     "grade": false,
     "locked": true,
     "solution": false
    }
   },
   "source": [
    "## Q3: Distance Measures (4 points)"
   ]
  },
  {
   "cell_type": "markdown",
   "metadata": {
    "deletable": false,
    "editable": false,
    "nbgrader": {
     "grade": false,
     "locked": true,
     "solution": false
    }
   },
   "source": [
    "(a) Find the distance between the county that Bush won by the largest margin and the county that Gore won by the largest margin. (Just use basic Euclidean distance between the latitude (lat) and longitude (lon) values for the counties.)"
   ]
  },
  {
   "cell_type": "code",
   "execution_count": 114,
   "metadata": {},
   "outputs": [
    {
     "data": {
      "text/plain": [
       "4.341658669218629"
      ]
     },
     "execution_count": 114,
     "metadata": {},
     "output_type": "execute_result"
    }
   ],
   "source": [
    "# findLatLonDistance(filename) takes an input the filename, and returns the distance \n",
    "# between the county that Bush won by the largest margin and the county that Gore\n",
    "# won by the largest margin.\n",
    "import pandas as pd\n",
    "from sklearn.metrics.pairwise import euclidean_distances\n",
    "def findLatLonDistance(filename):\n",
    "    ###\n",
    "    ### YOUR CODE HERE\n",
    "    ###\n",
    "    data1 = pd.read_csv(filename)\n",
    "\n",
    "    data=pd.DataFrame(data1.iloc[:,11:])\n",
    "    ls=list(data.idxmax(axis=1))\n",
    "   \n",
    "    x=[]\n",
    "    for i in range(len(ls)): \n",
    "        x.append(ls.index('bush',i,len(ls))) #question why this code fails when bush is replaced with gore\n",
    "    z=[]\n",
    "  \n",
    "    for i in range(len(ls)): \n",
    "      if ls[i]=='gore':\n",
    "          z.append(i)\n",
    "   \n",
    "    y=[]\n",
    "    for i in range(len(data)):\n",
    "       y.append(data.iloc[i,1:].sum()-data.iloc[i,0])\n",
    "    y=(y.index(min(y)))\n",
    "    w=[]\n",
    "    for i in range(len(data)):\n",
    "       w.append((data.iloc[i,2:].sum()+data.iloc[i,0])-data.iloc[i,1])\n",
    "    w=(w.index(min(w)))\n",
    "    diff=(data1.iloc[w,1:3]-data1.iloc[y,1:3])\n",
    "    \n",
    "    x=list(data1.iloc[w,1:3].values)\n",
    "    y=list(data1.iloc[y,1:3].values)\n",
    "  \n",
    "    return float(euclidean_distances([x],[y]))\n",
    "\n",
    "# Example Test Q3a\n",
    "findLatLonDistance('bush-gore-results-fl_demo.csv')\n",
    "# output: 4.341658669218476"
   ]
  },
  {
   "cell_type": "code",
   "execution_count": 115,
   "metadata": {
    "collapsed": true,
    "deletable": false,
    "editable": false,
    "nbgrader": {
     "grade": true,
     "grade_id": "Q3a:findLatLonDistance0",
     "locked": true,
     "points": "1",
     "solution": false
    }
   },
   "outputs": [],
   "source": [
    "###\n",
    "### AUTOGRADER TEST - DO NOT REMOVE\n",
    "###\n"
   ]
  },
  {
   "cell_type": "code",
   "execution_count": 116,
   "metadata": {
    "collapsed": true,
    "deletable": false,
    "editable": false,
    "nbgrader": {
     "grade": true,
     "grade_id": "Q3a:findLatLonDistance1",
     "locked": true,
     "points": "2",
     "solution": false
    }
   },
   "outputs": [],
   "source": [
    "###\n",
    "### AUTOGRADER TEST - DO NOT REMOVE\n",
    "###\n"
   ]
  },
  {
   "cell_type": "markdown",
   "metadata": {
    "deletable": false,
    "editable": false,
    "nbgrader": {
     "grade": false,
     "locked": true,
     "solution": false
    }
   },
   "source": [
    "(b) Consider the candidates: ['bush', 'gore']. Represent each candidate as a vector with entries corresponding to the number of votes the candidate obtained in each county. Calculate the pairwise Euclidean distance between the two candidate vectors. "
   ]
  },
  {
   "cell_type": "code",
   "execution_count": 117,
   "metadata": {},
   "outputs": [
    {
     "data": {
      "text/plain": [
       "264972.26245967706"
      ]
     },
     "execution_count": 117,
     "metadata": {},
     "output_type": "execute_result"
    }
   ],
   "source": [
    "# findVoteDistance(filename) takes an input the filename, and returns the distance \n",
    "# between the votes that Bush received and the votes that Gore received.\n",
    "import pandas as pd\n",
    "def findVoteDistance(filename):\n",
    "    ###\n",
    "    ### YOUR CODE HERE\n",
    "    ###\n",
    "    data=pd.read_csv(filename)\n",
    "    x= data.bush.values\n",
    "    y= data.gore.values\n",
    "    return float(euclidean_distances([x],[y]))\n",
    "# Example Test Q3b\n",
    "findVoteDistance('bush-gore-results-fl_demo.csv')\n",
    "# output: 264972.26245967706"
   ]
  },
  {
   "cell_type": "code",
   "execution_count": 118,
   "metadata": {
    "collapsed": true,
    "deletable": false,
    "editable": false,
    "nbgrader": {
     "grade": true,
     "grade_id": "Q3b:findVoteDistance0",
     "locked": true,
     "points": "1",
     "solution": false
    }
   },
   "outputs": [],
   "source": [
    "###\n",
    "### AUTOGRADER TEST - DO NOT REMOVE\n",
    "###\n"
   ]
  },
  {
   "cell_type": "code",
   "execution_count": 119,
   "metadata": {
    "collapsed": true,
    "deletable": false,
    "editable": false,
    "nbgrader": {
     "grade": true,
     "grade_id": "Q3b:findVoteDistance1",
     "locked": true,
     "points": "2",
     "solution": false
    }
   },
   "outputs": [],
   "source": [
    "###\n",
    "### AUTOGRADER TEST - DO NOT REMOVE\n",
    "###\n"
   ]
  },
  {
   "cell_type": "markdown",
   "metadata": {
    "deletable": false,
    "editable": false,
    "nbgrader": {
     "grade": false,
     "locked": true,
     "solution": false
    }
   },
   "source": [
    "(c) Consider the candidates: ['bush', 'gore', 'nade']. Represent each candidate as a vector with entries corresponding to the number of votes the candidate obtained in each county. Calculate the pairwise distances between the candidate vectors and plot the resulting matrix as a heatmap. Annotate the axes of the heatmap with the column names of the candidates. For this part, consider the dataset in file 'bush-gore-results-fl_demo.csv'."
   ]
  },
  {
   "cell_type": "code",
   "execution_count": 120,
   "metadata": {},
   "outputs": [
    {
     "data": {
      "image/png": "[encoded data removed]",
      "text/plain": [
       "<Figure size 432x288 with 1 Axes>"
      ]
     },
     "metadata": {},
     "output_type": "display_data"
    }
   ],
   "source": [
    "###\n",
    "### YOUR CODE HERE\n",
    "###\n",
    "data=pd.read_csv('bush-gore-results-fl_demo.csv')\n",
    "data=(data.iloc[:,11:])\n",
    "#img= (euclidean_distances([data.iloc[:,0:2]],[data.iloc[:,3]]))\n",
    "\n",
    "import numpy as np\n",
    "import pandas as pd\n",
    "\n",
    "# copied and pasted your data to a text file\n",
    "\n",
    "\n",
    "n = [0,1,3] \n",
    "dm = [] # initialize the distance matrix to zero\n",
    "\n",
    "for i in (n):\n",
    "    for j in (n):\n",
    "        dm.append(np.sqrt(np.sum((data.iloc[:,i] - data.iloc[:,j])**2)))\n",
    "x=np.array(dm)\n",
    "dm=(x.reshape(3,3))\n",
    "fig, ax = plt.subplots()\n",
    "im = ax.imshow(dm)\n",
    "\n",
    "candidates=[' ','bush','gore','nade']\n",
    "ax.set_xticklabels(candidates)\n",
    "ax.set_yticklabels(candidates)\n",
    "plt.setp(ax.get_xticklabels(), rotation=45, ha=\"center\",\n",
    "         rotation_mode=\"anchor\")\n",
    "plt.locator_params(axis=\"x\", nbins=3)\n",
    "plt.locator_params(axis=\"y\", nbins=3)\n",
    "plt.show()\n"
   ]
  },
  {
   "cell_type": "markdown",
   "metadata": {
    "deletable": false,
    "editable": false,
    "nbgrader": {
     "grade": false,
     "locked": true,
     "solution": false
    }
   },
   "source": [
    "(c) Now, create the same type of distance heatmap for the following set of candidates: ['brow', 'harr', 'hage', 'buch', 'mcre', 'phil', 'moor']. For this part, consider the dataset in file 'bush-gore-results-fl_demo.csv'."
   ]
  },
  {
   "cell_type": "code",
   "execution_count": 121,
   "metadata": {},
   "outputs": [
    {
     "data": {
      "image/png": "[encoded data removed]",
      "text/plain": [
       "<Figure size 432x288 with 1 Axes>"
      ]
     },
     "metadata": {},
     "output_type": "display_data"
    },
    {
     "name": "stdout",
     "output_type": "stream",
     "text": [
      "      bush    gore  brow   nade  harr  hage  buch  mcre  phil  moor\n",
      "0    34224   47465   758   3326   106   142   363   104   120   121\n",
      "1     5710    2492   117    153   100   103   173   100   103   103\n",
      "2    38737   18950   271    928   105   118   348   103   118   127\n",
      "3     5514    3175   128    184   100   102   165   100   102   103\n",
      "4   115285   97418   743   4570   111   139   670   111   172   176\n",
      "5   177423  386661  1312   7201   150   229   888   134   174   224\n",
      "6     2973    2255   110    139   100   101   190   101   102   103\n",
      "7    35526   29745   227   1562   106   115   282   103   118   112\n",
      "8    29865   25625   294   1479   105   116   370   100   118   128\n",
      "9    41836   14732   304    662   101   114   286   103   106   109\n",
      "10   60533   30018   285   1499   107   134   222   104   110   129\n",
      "11   11064    7147   227    358   101   107   189   102   108   105\n",
      "12    4356    3420   123    257   100   100   136   103   108   102\n",
      "13    2797    1926   132    175   100   102   129   100   103   102\n",
      "14  152198  107964  1052   2857   137   262   752   115   158   141\n",
      "15   73117   41043   396   1827   106   124   602   103   210   120\n",
      "16   12713   13997   160    535   101   104   183   103   103   112\n",
      "17    2554    2146   117    185   101   103   133   100   103   102\n",
      "18    4867    9835   124    239   103   104   138   104   107   106\n",
      "19    3400    2010   152    197   100   101   129   100   102   104\n",
      "20    1941    1542   112    156   100   103   109   101   100   101\n",
      "21    3650    2497   121    186   102   104   171   102   102   109\n",
      "22    2246    1822   112    137   104   101   123   108   107   104\n",
      "23    3865    2439   117    175   100   102   130   100   102   103\n",
      "24    4847    3340   111    203   103   101   122   102   107   102\n",
      "25   30746   32744   216   1601   108   126   342   104   110   122\n",
      "26   20306   14267   164    645   106   116   227   103   107   108\n",
      "27  180860  169657  1238   7590   135   317   947   129   168   254\n",
      "28    5111    2277   118    194   101   107   176   103   106   102\n",
      "29   28735   19868   222   1050   104   113   205   102   113   110\n",
      "..     ...     ...   ...    ...   ...   ...   ...   ...   ...   ...\n",
      "37    1417    1117   112    119   100   103   139   100   101   102\n",
      "38    3138    3114   118    154   100   102   129   101   101   105\n",
      "39   58052   49277   342   2591   105   135   371   103   119   126\n",
      "40   55241   44765   762   1909   113   126   663   106   122   149\n",
      "41   34070   26720   209   1218   114   129   212   107   120   114\n",
      "42  289592  328864   860   5452   187   219   660   135   169   224\n",
      "43   16159   16583   262   1190   101   126   147   100   103   107\n",
      "44   16380    6979   162    353   100   107   190   104   103   103\n",
      "45   52193   17048   413   1085   104   115   367   102   133   120\n",
      "46    5157    4688   121    231   101   104   143   101   103   104\n",
      "47  134617  140320   991   3979   113   165   546   107   141   146\n",
      "48   26312   28281   409    832   110   120   245   105   110   133\n",
      "49  152946  269045   843   5664   145   243  3507   402   288   203\n",
      "50   68682   69664   513   3493   119   183   670   114   116   177\n",
      "51  184923  200729  1330  10122   141   542  1113   127   172   270\n",
      "52   90280   75293   465   2162   108   159   632   105   146   136\n",
      "53   13547   12202   214    477   102   107   248   103   110   112\n",
      "54   36374   12902   231    824   101   113   411   101   143   119\n",
      "55   83200   72953   531   4169   111   194   405   105   115   159\n",
      "56   75777   59274   650   2046   106   138   294   105   118   126\n",
      "57   39646   19602   310   1317   104   111   329   102   112   113\n",
      "58   34805   41659   265   1468   104   112   224   110   113   129\n",
      "59   12227    9737   153    406   102   102   214   100   103   117\n",
      "60    8106    4175   152    280   102   104   208   100   109   105\n",
      "61    4156    2749   104    159   100   103   127   101   108   101\n",
      "62    2432    1507   115    133   101   100   137   100   101   100\n",
      "63   82314   97163   542   3003   108   136   596   105   120   169\n",
      "64    4612    3938   130    249   102   103   146   101   100   106\n",
      "65   12282    5742   168    365   103   111   220   102   107   118\n",
      "66    5094    2898   132    193   100   102   188   100   109   105\n",
      "\n",
      "[67 rows x 10 columns]\n"
     ]
    }
   ],
   "source": [
    "###\n",
    "### YOUR CODE HERE\n",
    "###\n",
    "import numpy as np\n",
    "import pandas as pd\n",
    "data=pd.read_csv('bush-gore-results-fl_demo.csv')\n",
    "data=(data.iloc[:,11:])\n",
    "\n",
    "n = [2,4,5,6,7,8,9] \n",
    "dm = [] # initialize the distance matrix to zero\n",
    "\n",
    "for i in (n):\n",
    "    for j in (n):\n",
    "        dm.append(np.sqrt(np.sum((data.iloc[:,i] - data.iloc[:,j])**2)))\n",
    "x=np.array(dm)\n",
    "dm=(x.reshape(7,7))\n",
    "fig, ax = plt.subplots()\n",
    "im = ax.imshow(dm)\n",
    "\n",
    "candidates=[' ','brow', 'harr', 'hage', 'buch', 'mcre', 'phil', 'moor']\n",
    "ax.set_xticklabels(candidates)\n",
    "ax.set_yticklabels(candidates)\n",
    "plt.setp(ax.get_xticklabels(), rotation=45, ha=\"center\",\n",
    "         rotation_mode=\"anchor\")\n",
    "plt.locator_params(axis=\"x\", nbins=7)\n",
    "plt.locator_params(axis=\"y\", nbins=7)\n",
    "plt.show()\n",
    "\n",
    "print(data.iloc[:,0:])"
   ]
  },
  {
   "cell_type": "code",
   "execution_count": null,
   "metadata": {
    "collapsed": true
   },
   "outputs": [],
   "source": []
  },
  {
   "cell_type": "code",
   "execution_count": null,
   "metadata": {
    "collapsed": true
   },
   "outputs": [],
   "source": []
  }
 ],
 "metadata": {
  "kernelspec": {
   "display_name": "Python 3 [3.6]",
   "language": "python",
   "name": "python3"
  },
  "language_info": {
   "codemirror_mode": {
    "name": "ipython",
    "version": 3
   },
   "file_extension": ".py",
   "mimetype": "text/x-python",
   "name": "python",
   "nbconvert_exporter": "python",
   "pygments_lexer": "ipython3",
   "version": "3.6.4"
  }
 },
 "nbformat": 4,
 "nbformat_minor": 2
}
