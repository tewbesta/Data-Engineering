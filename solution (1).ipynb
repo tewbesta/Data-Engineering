{
 "cells": [
  {
   "cell_type": "markdown",
   "metadata": {
    "deletable": false,
    "editable": false,
    "nbgrader": {
     "grade": false,
     "locked": true,
     "solution": false
    }
   },
   "source": [
    "# 1. Cleaning files\n",
    "\n",
    "__1a.__ Please enter the code below for cleaning the cast.csv file as per the instructions in the homework 1 handout, and store the cleaned data in cast_updated.csv file."
   ]
  },
  {
   "cell_type": "code",
   "execution_count": 43,
   "metadata": {
    "collapsed": true
   },
   "outputs": [],
   "source": [
    "import pandas as pd\n",
    "import math\n",
    "import sqlite3\n",
    "import csv\n",
    "cast=pd.read_csv(\"cast.csv\");\n",
    "cast_clean=cast.replace(to_replace=\"\\\\N\", value=math.nan)\n",
    "cast_clean.to_csv(\"cast_clean.csv\",sep=',')\n",
    "cast_updated=cast_clean\n",
    "cast_clean['category']=cast_clean.groupby([\"category\"]).ngroup()+1;\n",
    "cast_clean.to_csv(\"cast_updated.csv\",sep=',')\n"
   ]
  },
  {
   "cell_type": "markdown",
   "metadata": {
    "deletable": false,
    "editable": false,
    "nbgrader": {
     "grade": false,
     "locked": true,
     "solution": false
    }
   },
   "source": [
    "__1b.__ Please enter the code below for cleaning the titles.csv file as per the instructions in the homework 1 handout, and store the cleaned data in titles_updated.csv file."
   ]
  },
  {
   "cell_type": "code",
   "execution_count": 44,
   "metadata": {
    "collapsed": true
   },
   "outputs": [],
   "source": [
    "import pandas as pd\n",
    "import math\n",
    "import sqlite3\n",
    "import csv\n",
    "titles=pd.read_csv(\"titles.csv\");\n",
    "titles_clean=titles.replace(to_replace=\"\\\\N\", value=math.nan)\n",
    "titles_clean.to_csv(\"titles_clean.csv\",sep=',')\n"
   ]
  },
  {
   "cell_type": "markdown",
   "metadata": {
    "deletable": false,
    "editable": false,
    "nbgrader": {
     "grade": false,
     "locked": true,
     "solution": false
    }
   },
   "source": [
    "__1c.__ Please enter the code below for cleaning the people.csv file as per the instructions in the homework 1 handout, and store the cleaned data in people_cleaned.csv file."
   ]
  },
  {
   "cell_type": "code",
   "execution_count": 45,
   "metadata": {
    "collapsed": true
   },
   "outputs": [],
   "source": [
    "import pandas as pd\n",
    "import math\n",
    "import sqlite3\n",
    "import csv\n",
    "people=pd.read_csv(\"people.csv\");\n",
    "people_clean=people.replace(to_replace=\"\\\\N\", value=math.nan)\n",
    "people_clean.to_csv(\"people_clean.csv\",sep=',')\n"
   ]
  },
  {
   "cell_type": "markdown",
   "metadata": {
    "deletable": false,
    "editable": false,
    "nbgrader": {
     "grade": false,
     "locked": true,
     "solution": false
    }
   },
   "source": [
    "# 2. Creating the database, imdb.db\n",
    "\n",
    "Please enter the code below to create the database file imdb.db using your cleaned and updated (and/or any intermediary) files as per the homework1 handout"
   ]
  },
  {
   "cell_type": "code",
   "execution_count": 46,
   "metadata": {},
   "outputs": [
    {
     "name": "stdout",
     "output_type": "stream",
     "text": [
      "      tconst titleType                primaryTitle  \\\n",
      "0  tt0069049     movie  The Other Side of the Wind   \n",
      "1  tt0069204     movie             Sabse Bada Sukh   \n",
      "2  tt0085953     movie                 Devil Fetus   \n",
      "3  tt0091490     short         Martina's Playhouse   \n",
      "4  tt0100275     movie    The Wandering Soap Opera   \n",
      "\n",
      "                originalTitle startYear endYear runtimeMinutes  \\\n",
      "0  The Other Side of the Wind      2018       0            122   \n",
      "1             Sabse Bada Sukh      2018       0              0   \n",
      "2                      Mo tai      2019       0             84   \n",
      "3         Martina's Playhouse      2019       0             20   \n",
      "4       La Telenovela Errante      2017       0             80   \n",
      "\n",
      "                 genres  \n",
      "0                 Drama  \n",
      "1          Comedy,Drama  \n",
      "2                Horror  \n",
      "3           Drama,Short  \n",
      "4  Comedy,Drama,Fantasy  \n"
     ]
    }
   ],
   "source": [
    "import pandas as pd\n",
    "import math\n",
    "import sqlite3\n",
    "cast_updated\n",
    "cast=pd.read_csv(\"cast.csv\");\n",
    "productions=pd.read_csv(\"productions.csv\");\n",
    "ratings=pd.read_csv(\"ratings.csv\");\n",
    "cast_clean=cast.replace(to_replace=\"\\\\N\", value=math.nan)\n",
    "productions_clean=productions.replace(to_replace=\"\\\\N\", value=math.nan)\n",
    "ratings_clean=ratings.replace(to_replace=\"\\\\N\", value=math.nan)\n",
    "cast_updated=cast_clean\n",
    "cast_clean['category']=cast_clean.groupby([\"category\"]).ngroup()+1;\n",
    "cast_updated.to_csv(\"cast_clean.csv\",sep=',')\n",
    "ratings_clean.to_csv(\"ratings_clean.csv\",sep=',')\n",
    "productions_clean.to_csv(\"productions_clean.csv\",sep=',')\n",
    "con= sqlite3.connect('imdb.db')\n",
    "c=con.cursor()\n",
    "\n",
    "with open(\"titles_clean.csv\",'r', encoding=\"utf8\") as titles__table:\n",
    "    dr = csv.DictReader(titles__table)\n",
    "    to_db = [( i['tconst'], i['ordering'], i['title'], i['region'],i['language'],i['isOriginalTitle']) for i in dr]\n",
    "  \n",
    "with open(\"cast_clean.csv\",'r', encoding=\"utf8\") as cast__table:\n",
    "    dr = csv.DictReader(cast__table)\n",
    "    to_dbcast = [( i['tconst'],i['ordering'], i['nconst'], i['category'],i['job'],i['characters']) for i in dr]\n",
    "    \n",
    "with open(\"ratings_clean.csv\",'r', encoding=\"utf8\") as ratings__table:\n",
    "    dr = csv.DictReader(ratings__table)\n",
    "    to_dbrat= [( i['tconst'],i['averageRating'], i['numVotes']) for i in dr]\n",
    " \n",
    "with open(\"people_clean.csv\",'r', encoding=\"utf8\") as people__table:\n",
    "    dr = csv.DictReader(people__table)\n",
    "    to_dbpeople = [( i['nconst'],i['primaryName'],i['birthYear'],i['deathYear'],i['primaryProfession'],i['knownForTitles']) for i in dr]\n",
    "    \n",
    "with open(\"productions_clean.csv\",'r', encoding=\"utf8\") as productions__table:\n",
    "    dr = csv.DictReader(productions__table)\n",
    "    to_dbprod= [( i['tconst'],i['titleType'], i['primaryTitle'], i['originalTitle'],i['startYear'], i['endYear'],i['runtimeMinutes'], i['genres'] ) for i in dr]\n",
    "\n",
    "\n",
    "c.execute(\"CREATE TABLE titles (tconst text, ordering INTEGER,title text,region text, language text,isOriginalTitle INTEGER)\")\n",
    "c.executemany(\"INSERT INTO titles VALUES  (? ,?, ?, ?, ?,?);\", to_db)\n",
    "\n",
    "\n",
    "c.execute(\"CREATE TABLE cast (tconst text, ordering INTEGER, nconst text, category INTEGER ,job text, characters text)\")\n",
    "c.executemany(\"INSERT INTO cast VALUES  (? ,?, ?, ?, ?,?);\", to_dbcast)\n",
    "\n",
    "c.execute(\"CREATE TABLE ratings (tconst text, averageRating FLOAT,numVotes INTEGER)\")\n",
    "c.executemany(\"INSERT INTO ratings VALUES  (? ,?, ?);\", to_dbrat)\n",
    "\n",
    "c.execute(\"CREATE TABLE productions (tconst text, titleType text, primaryTitle text, originalTitle text, startYear INTEGER, endYear INTEGER, runtimeMinutes INTEGER, genres TEXT)\")\n",
    "c.executemany(\"INSERT INTO productions VALUES  (? ,?, ?, ?, ?, ?, ?, ?);\", to_dbprod)\n",
    "\n",
    "c.execute(\"CREATE TABLE people (nconst INTEGER, primaryName text,birthYear INTEGER, deathYear INTEGER, primaryProfession text, knownForTitles text)\")\n",
    "c.executemany(\"INSERT INTO people VALUES  (? ,?, ?,? ,?, ?);\", to_dbpeople)\n",
    "con.commit()\n",
    "df = pd.read_sql_query(\"SELECT * from productions\", con)\n",
    "# Verify that result of SQL query is stored in the dataframe\n",
    "print(df.head())\n",
    "#con.close()\n",
    "\n",
    "\n"
   ]
  },
  {
   "cell_type": "code",
   "execution_count": 47,
   "metadata": {
    "collapsed": true,
    "deletable": false,
    "editable": false,
    "nbgrader": {
     "grade": true,
     "grade_id": "cast",
     "locked": true,
     "points": "5",
     "solution": false
    }
   },
   "outputs": [],
   "source": [
    "###\n",
    "### AUTOGRADER TEST - DO NOT REMOVE\n",
    "###\n"
   ]
  },
  {
   "cell_type": "code",
   "execution_count": 48,
   "metadata": {
    "collapsed": true,
    "deletable": false,
    "editable": false,
    "nbgrader": {
     "grade": true,
     "grade_id": "titles",
     "locked": true,
     "points": "5",
     "solution": false
    }
   },
   "outputs": [],
   "source": [
    "###\n",
    "### AUTOGRADER TEST - DO NOT REMOVE\n",
    "###\n"
   ]
  },
  {
   "cell_type": "code",
   "execution_count": 49,
   "metadata": {
    "collapsed": true,
    "deletable": false,
    "editable": false,
    "nbgrader": {
     "grade": true,
     "grade_id": "people",
     "locked": true,
     "points": "5",
     "solution": false
    }
   },
   "outputs": [],
   "source": [
    "###\n",
    "### AUTOGRADER TEST - DO NOT REMOVE\n",
    "###\n"
   ]
  },
  {
   "cell_type": "code",
   "execution_count": 50,
   "metadata": {
    "collapsed": true,
    "deletable": false,
    "editable": false,
    "nbgrader": {
     "grade": true,
     "grade_id": "imdb",
     "locked": true,
     "points": "25",
     "solution": false
    }
   },
   "outputs": [],
   "source": [
    "###\n",
    "### AUTOGRADER TEST - DO NOT REMOVE\n",
    "###\n"
   ]
  },
  {
   "cell_type": "code",
   "execution_count": null,
   "metadata": {
    "collapsed": true
   },
   "outputs": [],
   "source": []
  }
 ],
 "metadata": {
  "kernelspec": {
   "display_name": "Python 3 [3.7]",
   "language": "python",
   "name": "python3"
  },
  "language_info": {
   "codemirror_mode": {
    "name": "ipython",
    "version": 3
   },
   "file_extension": ".py",
   "mimetype": "text/x-python",
   "name": "python",
   "nbconvert_exporter": "python",
   "pygments_lexer": "ipython3",
   "version": "3.7.5"
  }
 },
 "nbformat": 4,
 "nbformat_minor": 2
}
