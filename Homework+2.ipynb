{
 "cells": [
  {
   "cell_type": "markdown",
   "metadata": {
    "collapsed": true,
    "deletable": false,
    "editable": false,
    "nbgrader": {
     "grade": false,
     "locked": true,
     "solution": false
    }
   },
   "source": [
    "# Homework 2"
   ]
  },
  {
   "cell_type": "markdown",
   "metadata": {
    "deletable": false,
    "editable": false,
    "nbgrader": {
     "grade": false,
     "locked": true,
     "solution": false
    }
   },
   "source": [
    "For this homework, you are provided with a set of demo files.\n",
    "An example output is provided for the demo files so that you can compare your answers. \n",
    "We will test your output on test files with the same format and name, but either a different sample of rows or different values in the fields. \n",
    "\n",
    "For this assignment you cannot use the python library scikit-learn (sklearn). You can use the python package BeautifulSoup to parse web pages."
   ]
  },
  {
   "cell_type": "code",
   "execution_count": 59,
   "metadata": {
    "collapsed": true,
    "deletable": false,
    "editable": false,
    "nbgrader": {
     "grade": false,
     "locked": true,
     "solution": false
    }
   },
   "outputs": [],
   "source": [
    "# Run this cell so that the necessary packages are imported. The requests package \n",
    "# can be used to open a connection to a url.\n",
    "\n",
    "import pandas as pd\n",
    "from bs4 import BeautifulSoup\n",
    "import requests\n",
    "import string"
   ]
  },
  {
   "cell_type": "markdown",
   "metadata": {
    "deletable": false,
    "editable": false,
    "nbgrader": {
     "grade": false,
     "locked": true,
     "solution": false
    }
   },
   "source": [
    "## Q1: CSV Parsing "
   ]
  },
  {
   "cell_type": "markdown",
   "metadata": {
    "deletable": false,
    "editable": false,
    "nbgrader": {
     "grade": false,
     "locked": true,
     "solution": false
    }
   },
   "source": [
    "Read from the csv file with the specified filename using the python package 'pandas'. It has three columns: Index, Height (Inches), and Weight (Pounds). Each row corresponds to an individual. There is no header row in the file. \n",
    "\n",
    "Output the minimum value of height and the maximum value of weight in the file.  \n"
   ]
  },
  {
   "cell_type": "code",
   "execution_count": 60,
   "metadata": {
    "nbgrader": {
     "grade": false,
     "locked": false,
     "solution": false
    }
   },
   "outputs": [
    {
     "data": {
      "text/plain": [
       "(65.78, 153.03)"
      ]
     },
     "execution_count": 60,
     "metadata": {},
     "output_type": "execute_result"
    }
   ],
   "source": [
    "# findMinMax(fileName) takes as input a string which refers to the absolute name \n",
    "# of a csv file and returns a tuple. The first element of the tuple\n",
    "# reports the minimum of the values in the 2nd column, and the second element  \n",
    "# reports the maximum of the values in the 3rd column.\n",
    "#\n",
    "# Example:\n",
    "#\n",
    "# fileName: height_weight_demo.csv\n",
    "# output: (65.78, 153.03)\n",
    "\n",
    "def findMinMax(filename):\n",
    "    \n",
    "    ###\n",
    "    ### YOUR CODE HERE\n",
    "    c=pd.read_csv(filename,header=None)\n",
    "    return (min(c[1]),max(c[2]))\n",
    "    ###\n",
    "    \n",
    " \n",
    "# Example Test Case Q1\n",
    "findMinMax(\"height_weight_demo.csv\")\n",
    "# output: (65.78, 153.03)"
   ]
  },
  {
   "cell_type": "code",
   "execution_count": 61,
   "metadata": {
    "collapsed": true,
    "deletable": false,
    "editable": false,
    "nbgrader": {
     "grade": true,
     "grade_id": "Q1:CSVParsing1",
     "locked": true,
     "points": "1",
     "solution": false
    }
   },
   "outputs": [],
   "source": [
    "###\n",
    "### AUTOGRADER TEST - DO NOT REMOVE\n",
    "###\n"
   ]
  },
  {
   "cell_type": "code",
   "execution_count": 62,
   "metadata": {
    "collapsed": true,
    "deletable": false,
    "editable": false,
    "nbgrader": {
     "grade": true,
     "grade_id": "Q1:CSVParsing2",
     "locked": true,
     "points": "2",
     "solution": false
    }
   },
   "outputs": [],
   "source": [
    "###\n",
    "### AUTOGRADER TEST - DO NOT REMOVE\n",
    "###\n"
   ]
  },
  {
   "cell_type": "markdown",
   "metadata": {
    "deletable": false,
    "editable": false,
    "nbgrader": {
     "grade": false,
     "locked": true,
     "solution": false
    }
   },
   "source": [
    "## Q2: Analyzing Data in CSV "
   ]
  },
  {
   "cell_type": "markdown",
   "metadata": {
    "deletable": false,
    "editable": false,
    "nbgrader": {
     "grade": false,
     "locked": true,
     "solution": false
    }
   },
   "source": [
    "Use the csv file 'bush-gore-results-fl_demo.csv' as sample data for Q2. There is a header row in the file. Each row corresponds to a unique county in Florida in the 2000 presidential election. The columns record data about each county, including the votes received for each of ten candidates.   "
   ]
  },
  {
   "cell_type": "markdown",
   "metadata": {
    "deletable": false,
    "editable": false,
    "nbgrader": {
     "grade": false,
     "locked": true,
     "solution": false
    }
   },
   "source": [
    "(a) Determine the shape of data frame (i.e., the number of rows and number of columns). Return as a tuple. "
   ]
  },
  {
   "cell_type": "code",
   "execution_count": 63,
   "metadata": {
    "nbgrader": {
     "grade": false,
     "locked": false,
     "solution": false
    }
   },
   "outputs": [
    {
     "data": {
      "text/plain": [
       "(67, 21)"
      ]
     },
     "execution_count": 63,
     "metadata": {},
     "output_type": "execute_result"
    }
   ],
   "source": [
    "# getShape(filename) takes the filename of a csv file as input and returns \n",
    "# the shape of the data as a tuple (num rows, num cols).\n",
    "\n",
    "# For example,\n",
    "# filename: bush-gore-results-fl_demo.csv\n",
    "# output: (67, 21)\n",
    "import csv\n",
    "def getShape(filename):\n",
    "\n",
    "    ###\n",
    "       '''\n",
    "       with open(filename) as f:\n",
    "            l=list(csv.reader(f))\n",
    "       print(len((l[1:])),len(l[0]))\n",
    "       '''\n",
    "       c=pd.read_csv(filename)\n",
    "       return c.shape\n",
    "       \n",
    "    ### YOUR CODE HERE\n",
    "    ###\n",
    "    \n",
    "    \n",
    "    \n",
    "    \n",
    "# Example Test Case Q2a\n",
    "getShape(\"bush-gore-results-fl_demo.csv\")\n",
    "# output: (67, 21)   "
   ]
  },
  {
   "cell_type": "code",
   "execution_count": 64,
   "metadata": {
    "collapsed": true,
    "deletable": false,
    "editable": false,
    "nbgrader": {
     "grade": true,
     "grade_id": "Q2a:getShape1",
     "locked": true,
     "points": "1",
     "solution": false
    }
   },
   "outputs": [],
   "source": [
    "###\n",
    "### AUTOGRADER TEST - DO NOT REMOVE\n",
    "###\n"
   ]
  },
  {
   "cell_type": "code",
   "execution_count": 65,
   "metadata": {
    "collapsed": true,
    "deletable": false,
    "editable": false,
    "nbgrader": {
     "grade": true,
     "grade_id": "Q2a:getShape2",
     "locked": true,
     "points": "2",
     "solution": false
    }
   },
   "outputs": [],
   "source": [
    "###\n",
    "### AUTOGRADER TEST - DO NOT REMOVE\n",
    "###\n"
   ]
  },
  {
   "cell_type": "markdown",
   "metadata": {
    "deletable": false,
    "editable": false,
    "nbgrader": {
     "grade": false,
     "locked": true,
     "solution": false
    }
   },
   "source": [
    "(b) Determine how many votes Gore received. "
   ]
  },
  {
   "cell_type": "code",
   "execution_count": 66,
   "metadata": {},
   "outputs": [
    {
     "data": {
      "text/plain": [
       "2915817"
      ]
     },
     "execution_count": 66,
     "metadata": {},
     "output_type": "execute_result"
    }
   ],
   "source": [
    "# getGoreVotes(filename) takes the filename of a csv file as input and returns \n",
    "# the total of the votes submittted for Gore.\n",
    "\n",
    "# For example,\n",
    "# filename: bush-gore-results-fl_demo.csv\n",
    "# output: 2915817\n",
    "\n",
    "def getGoreVotes(filename):\n",
    "\n",
    "    ### \n",
    "       c=pd.read_csv(filename)\n",
    "      \n",
    "       return(sum(c['gore']))\n",
    "    ### YOUR CODE HERE\n",
    "    ###\n",
    "    \n",
    "    \n",
    "    \n",
    "    \n",
    "# Example Test Case Q2b\n",
    "getGoreVotes(\"bush-gore-results-fl_demo.csv\")\n",
    "# output: 2915817"
   ]
  },
  {
   "cell_type": "code",
   "execution_count": 67,
   "metadata": {
    "collapsed": true,
    "deletable": false,
    "editable": false,
    "nbgrader": {
     "grade": true,
     "grade_id": "Q2b:getGoreVotes1",
     "locked": true,
     "points": "1",
     "solution": false
    }
   },
   "outputs": [],
   "source": [
    "###\n",
    "### AUTOGRADER TEST - DO NOT REMOVE\n",
    "###\n"
   ]
  },
  {
   "cell_type": "code",
   "execution_count": 68,
   "metadata": {
    "collapsed": true,
    "deletable": false,
    "editable": false,
    "nbgrader": {
     "grade": true,
     "grade_id": "Q2b:getGoreVotes2",
     "locked": true,
     "points": "2",
     "solution": false
    }
   },
   "outputs": [],
   "source": [
    "###\n",
    "### AUTOGRADER TEST - DO NOT REMOVE\n",
    "###\n"
   ]
  },
  {
   "cell_type": "markdown",
   "metadata": {
    "deletable": false,
    "editable": false,
    "nbgrader": {
     "grade": false,
     "locked": true,
     "solution": false
    }
   },
   "source": [
    "(c) The last ten columns record the votes registered for each of the ten candidates. Determine how many votes were submitted in total. "
   ]
  },
  {
   "cell_type": "code",
   "execution_count": 69,
   "metadata": {
    "scrolled": true
   },
   "outputs": [
    {
     "data": {
      "text/plain": [
       "6024092"
      ]
     },
     "execution_count": 69,
     "metadata": {},
     "output_type": "execute_result"
    }
   ],
   "source": [
    "# getTotalVotes(filename) takes the filename of a csv file as input and returns \n",
    "# the total count of the votes submitted (recorded in the last 10 columns).\n",
    "\n",
    "# For example,\n",
    "# filename: bush-gore-results-fl_demo.csv\n",
    "# output: 6024092\n",
    "\n",
    "def getTotalVotes(filename):\n",
    "\n",
    "    ###\n",
    "    c=pd.read_csv(filename)\n",
    "    return(sum([sum(c[x]) for x in c.columns[-10:]]))\n",
    "    ### YOUR CODE HERE\n",
    "    ###\n",
    " \n",
    "# Example Test Case Q2c\n",
    "getTotalVotes(\"bush-gore-results-fl_demo.csv\")\n",
    "# output: 6024092"
   ]
  },
  {
   "cell_type": "code",
   "execution_count": 70,
   "metadata": {
    "collapsed": true,
    "deletable": false,
    "editable": false,
    "nbgrader": {
     "grade": true,
     "grade_id": "Q2c:getTotalVotes1",
     "locked": true,
     "points": "1",
     "solution": false
    }
   },
   "outputs": [],
   "source": [
    "###\n",
    "### AUTOGRADER TEST - DO NOT REMOVE\n",
    "###\n"
   ]
  },
  {
   "cell_type": "code",
   "execution_count": 71,
   "metadata": {
    "collapsed": true,
    "deletable": false,
    "editable": false,
    "nbgrader": {
     "grade": true,
     "grade_id": "Q2c:getTotalVotes2",
     "locked": true,
     "points": "2",
     "solution": false
    }
   },
   "outputs": [],
   "source": [
    "###\n",
    "### AUTOGRADER TEST - DO NOT REMOVE\n",
    "###\n"
   ]
  },
  {
   "cell_type": "markdown",
   "metadata": {
    "deletable": false,
    "editable": false,
    "nbgrader": {
     "grade": false,
     "locked": true,
     "solution": false
    }
   },
   "source": [
    "(d) The column named \"npop\" records the size of each county. Determine who won the largest county. "
   ]
  },
  {
   "cell_type": "code",
   "execution_count": 72,
   "metadata": {},
   "outputs": [
    {
     "data": {
      "text/plain": [
       "'gore'"
      ]
     },
     "execution_count": 72,
     "metadata": {},
     "output_type": "execute_result"
    }
   ],
   "source": [
    "# largestCountyWinner(filename) takes a pointer to a csv file as input and returns \n",
    "# the candidate (header name) who won the largest county.\n",
    "#\n",
    "# For example,\n",
    "# filename: bush-gore-results-fl_demo.csv\n",
    "# output: gore\n",
    "\n",
    "def largestCountyWinner(filename):\n",
    "\n",
    "    ###\n",
    "    ### YOUR CODE HERE\n",
    "    c=pd.read_csv(filename)\n",
    "    idx=(c['npop'].idxmax())\n",
    "    return(c.iloc[idx][4:].idxmax())\n",
    "    ###\n",
    "    \n",
    "# Example Test Case Q2d\n",
    "largestCountyWinner(\"bush-gore-results-fl_demo.csv\")\n",
    "# output: gore"
   ]
  },
  {
   "cell_type": "code",
   "execution_count": 73,
   "metadata": {
    "collapsed": true,
    "deletable": false,
    "editable": false,
    "nbgrader": {
     "grade": true,
     "grade_id": "Q2d:largestCountyWinner1",
     "locked": true,
     "points": "1",
     "solution": false
    }
   },
   "outputs": [],
   "source": [
    "###\n",
    "### AUTOGRADER TEST - DO NOT REMOVE\n",
    "###\n"
   ]
  },
  {
   "cell_type": "code",
   "execution_count": 74,
   "metadata": {
    "collapsed": true,
    "deletable": false,
    "editable": false,
    "nbgrader": {
     "grade": true,
     "grade_id": "Q2d:largestCountyWinner2",
     "locked": true,
     "points": "2",
     "solution": false
    }
   },
   "outputs": [],
   "source": [
    "###\n",
    "### AUTOGRADER TEST - DO NOT REMOVE\n",
    "###\n"
   ]
  },
  {
   "cell_type": "markdown",
   "metadata": {
    "deletable": false,
    "editable": false,
    "nbgrader": {
     "grade": false,
     "locked": true,
     "solution": false
    }
   },
   "source": [
    "(e) Each row corresponds to a unique county. Determine how many counties Bush won (i.e., where Bush received the maximum number of votes). "
   ]
  },
  {
   "cell_type": "code",
   "execution_count": 75,
   "metadata": {
    "scrolled": true
   },
   "outputs": [
    {
     "data": {
      "text/plain": [
       "51"
      ]
     },
     "execution_count": 75,
     "metadata": {},
     "output_type": "execute_result"
    }
   ],
   "source": [
    "# countiesWon(filename) takes the filename of a csv file as input and returns the \n",
    "# number of counties won by Bush.\n",
    "\n",
    "# For example,\n",
    "# filename: bush-gore-results-fl_demo.csv\n",
    "# output: 51\n",
    "\n",
    "def countiesWon(filename):\n",
    "    ###\n",
    "    ### YOUR CODE HERE\n",
    "    c=pd.read_csv(filename)\n",
    "    b=(c[c.columns[11:]]).idxmax(axis=1).value_counts()\n",
    "    return(b['bush'])\n",
    "    \n",
    "    ###\n",
    "    \n",
    "# Example Test Case Q2e\n",
    "countiesWon(\"bush-gore-results-fl_demo.csv\")\n",
    "# output: 51"
   ]
  },
  {
   "cell_type": "code",
   "execution_count": 76,
   "metadata": {
    "collapsed": true,
    "deletable": false,
    "editable": false,
    "nbgrader": {
     "grade": true,
     "grade_id": "Q2e:countiesWon1",
     "locked": true,
     "points": "1",
     "solution": false
    }
   },
   "outputs": [],
   "source": [
    "###\n",
    "### AUTOGRADER TEST - DO NOT REMOVE\n",
    "###\n"
   ]
  },
  {
   "cell_type": "code",
   "execution_count": 77,
   "metadata": {
    "collapsed": true,
    "deletable": false,
    "editable": false,
    "nbgrader": {
     "grade": true,
     "grade_id": "Q2e:countiesWon2",
     "locked": true,
     "points": "2",
     "solution": false
    }
   },
   "outputs": [],
   "source": [
    "###\n",
    "### AUTOGRADER TEST - DO NOT REMOVE\n",
    "###\n"
   ]
  },
  {
   "cell_type": "markdown",
   "metadata": {
    "deletable": false,
    "editable": false,
    "nbgrader": {
     "grade": false,
     "locked": true,
     "solution": false
    }
   },
   "source": [
    "## Q3: Data Wrangling"
   ]
  },
  {
   "cell_type": "markdown",
   "metadata": {
    "deletable": false,
    "editable": false,
    "nbgrader": {
     "grade": false,
     "locked": true,
     "solution": false
    }
   },
   "source": [
    "Use the csv file 'class_grades_demo.csv' as sample data for Q4. There is a header row in the file. "
   ]
  },
  {
   "cell_type": "markdown",
   "metadata": {
    "deletable": false,
    "editable": false,
    "nbgrader": {
     "grade": false,
     "locked": true,
     "solution": false
    }
   },
   "source": [
    "(a) Read in data from the input file and transform the column named 'Final' as follows: \n",
    "    1. Find the median of the column. \n",
    "    2. Find the max value of the column. \n",
    "    3. From each entry in the column, subtract the median (obtained in step 1), \n",
    "    and divide the resulting value by the max value (obtained in step 2). \n",
    "Return the transformed values as a vector."
   ]
  },
  {
   "cell_type": "code",
   "execution_count": 78,
   "metadata": {},
   "outputs": [
    {
     "data": {
      "text/plain": [
       "array([-0.14004554, -0.07379093, -0.13104533,  0.00753633, -0.25151811,\n",
       "        0.15815441,  0.00450011,  0.31777272, -0.29369985,  0.29369985,\n",
       "       -0.10393624, -0.14904576, -0.00450011,  0.30573628,  0.05969421,\n",
       "        0.03464541])"
      ]
     },
     "execution_count": 78,
     "metadata": {},
     "output_type": "execute_result"
    }
   ],
   "source": [
    "# transformColumn(filename) takes the filename of a csv file as input, transforms \n",
    "# the 'Final' column of the data as described above, and returns a list of the\n",
    "# transformed values. The order of the transformed values should be in the \n",
    "# order of the rows given in the file.\n",
    "\n",
    "# Example output for the file \"class_grades_demo.csv\": \n",
    "# \n",
    "# output: [-0.140045543266, -0.0737909347213, -0.131045326393, 0.00753632617653, \n",
    "# -0.25151810887, 0.158154413359, 0.00450010843635, 0.317772717415, -0.293699848189, \n",
    "# 0.293699848189, -0.103936239427, -0.149045760139, -0.00450010843635, \n",
    "# 0.305736282802, 0.059694209499, 0.0346454131425]\n",
    "\n",
    "def transformColumn(filename):\n",
    "    \n",
    "    ###\n",
    "    ### YOUR CODE HERE\n",
    "    c=pd.read_csv(filename)\n",
    "    med=(c['Final']).median()\n",
    "    max=(c['Final']).max()\n",
    "    return (list(c['Final']-med)/max)\n",
    "    ###\n",
    "    \n",
    "    \n",
    "# Example Test Case Q3a\n",
    "transformColumn(\"class_grades_demo.csv\")\n",
    "# output: [-0.140045543266, -0.0737909347213, -0.131045326393, 0.00753632617653, \n",
    "# -0.25151810887, 0.158154413359, 0.00450010843635, 0.317772717415, -0.293699848189, \n",
    "# 0.293699848189, -0.103936239427, -0.149045760139, -0.00450010843635, \n",
    "# 0.305736282802, 0.059694209499, 0.0346454131425]\n",
    "\n",
    "\n",
    "    "
   ]
  },
  {
   "cell_type": "code",
   "execution_count": 79,
   "metadata": {
    "collapsed": true,
    "deletable": false,
    "editable": false,
    "nbgrader": {
     "grade": true,
     "grade_id": "Q3a:transform1",
     "locked": true,
     "points": "1",
     "solution": false
    }
   },
   "outputs": [],
   "source": [
    "###\n",
    "### AUTOGRADER TEST - DO NOT REMOVE\n",
    "###\n"
   ]
  },
  {
   "cell_type": "code",
   "execution_count": 80,
   "metadata": {
    "collapsed": true,
    "deletable": false,
    "editable": false,
    "nbgrader": {
     "grade": true,
     "grade_id": "Q3a:trasform2",
     "locked": true,
     "points": "2",
     "solution": false
    }
   },
   "outputs": [],
   "source": [
    "###\n",
    "### AUTOGRADER TEST - DO NOT REMOVE\n",
    "###\n"
   ]
  },
  {
   "cell_type": "markdown",
   "metadata": {
    "deletable": false,
    "editable": false,
    "nbgrader": {
     "grade": false,
     "locked": true,
     "solution": false
    }
   },
   "source": [
    "(b) Read in data from the input file and find the grade assigned to a student based on the following criteria applied to the column 'Final': \n",
    "\n",
    "If value >= 91, grade = A;\n",
    "If value >= 85, grade = B;\n",
    "If value >= 70, grade = C;\n",
    "Otherwise, grade = D.\n",
    "\n",
    "Output the results as a vector."
   ]
  },
  {
   "cell_type": "code",
   "execution_count": 81,
   "metadata": {
    "scrolled": true
   },
   "outputs": [
    {
     "data": {
      "text/plain": [
       "['D',\n",
       " 'D',\n",
       " 'D',\n",
       " 'D',\n",
       " 'D',\n",
       " 'C',\n",
       " 'D',\n",
       " 'A',\n",
       " 'D',\n",
       " 'B',\n",
       " 'D',\n",
       " 'D',\n",
       " 'D',\n",
       " 'A',\n",
       " 'D',\n",
       " 'D']"
      ]
     },
     "execution_count": 81,
     "metadata": {},
     "output_type": "execute_result"
    }
   ],
   "source": [
    "# assignGrade(filename) assigns grades to students based on the above criteria, \n",
    "# and returns a list of the letter grades assigned. The order of the grades should\n",
    "# be in the order of the rows given in the file. \n",
    "# Example output for the file \"class_grades_demo.csv\".\n",
    "# output: ['D', 'D', 'D', 'D', 'D', 'C', 'D', 'A', 'D', 'B', 'D', 'D', 'D', 'A', 'D', 'D']\n",
    "import numpy as np\n",
    "def assignGrade(filename):\n",
    "    \n",
    "    ###\n",
    "    ### YOUR CODE HERE\n",
    "     c=pd.read_csv(filename) \n",
    "     grade=['D','C','B','A']\n",
    "     amount=[0,70,85,91,100]\n",
    "     x=pd.cut((c['Final']),amount,labels=grade)\n",
    "     return(list(x[:]))\n",
    "    \n",
    "# Example Test Output Q3b\n",
    "assignGrade(\"class_grades_demo.csv\")\n",
    "# output: ['D', 'D', 'D', 'D', 'D', 'C', 'D', 'A', 'D', 'B', 'D', 'D', 'D', 'A', 'D', 'D']\n"
   ]
  },
  {
   "cell_type": "code",
   "execution_count": 82,
   "metadata": {
    "collapsed": true,
    "deletable": false,
    "editable": false,
    "nbgrader": {
     "grade": true,
     "grade_id": "Q3b:assignGrade1",
     "locked": true,
     "points": "1",
     "solution": false
    }
   },
   "outputs": [],
   "source": [
    "###\n",
    "### AUTOGRADER TEST - DO NOT REMOVE\n",
    "###\n"
   ]
  },
  {
   "cell_type": "code",
   "execution_count": 83,
   "metadata": {
    "collapsed": true,
    "deletable": false,
    "editable": false,
    "nbgrader": {
     "grade": true,
     "grade_id": "Q3b:assignGrade2",
     "locked": true,
     "points": "2",
     "solution": false
    }
   },
   "outputs": [],
   "source": [
    "###\n",
    "### AUTOGRADER TEST - DO NOT REMOVE\n",
    "###\n"
   ]
  },
  {
   "cell_type": "markdown",
   "metadata": {
    "deletable": false,
    "editable": false,
    "nbgrader": {
     "grade": false,
     "locked": true,
     "solution": false
    }
   },
   "source": [
    "(c) Assume the input file is a csv file with the same format as above (with header). However, it contains some missing values. Read in the data from the input file and return the number of rows with missing values."
   ]
  },
  {
   "cell_type": "code",
   "execution_count": 84,
   "metadata": {},
   "outputs": [
    {
     "data": {
      "text/plain": [
       "2"
      ]
     },
     "execution_count": 84,
     "metadata": {},
     "output_type": "execute_result"
    }
   ],
   "source": [
    "# countMissingValues(filename) takes the filenome of a csv file as input and returns \n",
    "# the number of rows with any missing values in the data.  \n",
    "\n",
    "# For example,\n",
    "# filename: class_grades_missing_demo.csv\n",
    "# output: 2\n",
    "\n",
    "def countMissingValues(filename):\n",
    "     c=pd.read_csv(filename)\n",
    "     return (sum(c.isnull().sum()))\n",
    "    ###\n",
    "    ### YOUR CODE HERE\n",
    "    ###\n",
    "   \n",
    "    \n",
    "# Example Test Output Q3c\n",
    "countMissingValues(\"class_grades_missing_demo.csv\")\n",
    "# output: 2"
   ]
  },
  {
   "cell_type": "code",
   "execution_count": 85,
   "metadata": {
    "collapsed": true,
    "deletable": false,
    "editable": false,
    "nbgrader": {
     "grade": true,
     "grade_id": "Q3c:countMissingValues1",
     "locked": true,
     "points": "1",
     "solution": false
    }
   },
   "outputs": [],
   "source": [
    "###\n",
    "### AUTOGRADER TEST - DO NOT REMOVE\n",
    "###\n"
   ]
  },
  {
   "cell_type": "code",
   "execution_count": 86,
   "metadata": {
    "collapsed": true,
    "deletable": false,
    "editable": false,
    "nbgrader": {
     "grade": true,
     "grade_id": "Q3c:countMissingValues2",
     "locked": true,
     "points": "2",
     "solution": false
    }
   },
   "outputs": [],
   "source": [
    "###\n",
    "### AUTOGRADER TEST - DO NOT REMOVE\n",
    "###\n"
   ]
  },
  {
   "cell_type": "markdown",
   "metadata": {
    "deletable": false,
    "editable": false,
    "nbgrader": {
     "grade": false,
     "locked": true,
     "solution": false
    }
   },
   "source": [
    "(d) Assume the input file is a csv file with the same format as above (with header). However, it contains some missing values in the kth column. Read in the data, compute the average of the values in the kth column. Then fill in the missing values with the value 0. Recompute the average. Return the two values as a tuple."
   ]
  },
  {
   "cell_type": "code",
   "execution_count": 87,
   "metadata": {},
   "outputs": [
    {
     "name": "stdout",
     "output_type": "stream",
     "text": [
      "(70.20466666666668, 65.81687500000001)\n",
      "(62.758, 58.835625)\n"
     ]
    }
   ],
   "source": [
    "# fillMissingValues(filename, k) takes thefilename of a csv file as input and \n",
    "# returns a tuple. The first element reports the average of the values in the kth column\n",
    "# (ignoring missing values), and the second element reports the average after filling in\n",
    "# the missing values with value 0.\n",
    "#\n",
    "# For example,\n",
    "# filename: \n",
    "# fillMissingValues(class_grades_missing_demo.csv, 4) -> (70.20466666666668, 65.81687500000001)\n",
    "# fillMissingValues(class_grades_missing_demo.csv, 5) -> (62.758, 58.835625)\n",
    "\n",
    "def fillMissingValues(filename, k):\n",
    "    \n",
    "    ###\n",
    "    ### YOUR CODE HERE\n",
    "    ###\n",
    "    c=pd.read_csv(filename)\n",
    "    return (c[c.columns[k]]).mean(),c.fillna(0)[c.columns[k]].mean()\n",
    "    #print(c.fillna((c[c.columns[k]]).mean()))\n",
    "    \n",
    "    \n",
    "    \n",
    "    \n",
    "# Example Tests Cases Q3d\n",
    "print(fillMissingValues(\"class_grades_missing_demo.csv\", 4))\n",
    "# output: (70.20466666666668, 65.81687500000001)\n",
    "\n",
    "print(fillMissingValues(\"class_grades_missing_demo.csv\", 5))\n",
    "# output: (62.758, 58.835625)\n"
   ]
  },
  {
   "cell_type": "code",
   "execution_count": 88,
   "metadata": {
    "collapsed": true,
    "deletable": false,
    "editable": false,
    "nbgrader": {
     "grade": true,
     "grade_id": "Q3d:fillMissing1",
     "locked": true,
     "points": "1",
     "solution": false
    }
   },
   "outputs": [],
   "source": [
    "###\n",
    "### AUTOGRADER TEST - DO NOT REMOVE\n",
    "###\n"
   ]
  },
  {
   "cell_type": "code",
   "execution_count": 89,
   "metadata": {
    "collapsed": true,
    "deletable": false,
    "editable": false,
    "nbgrader": {
     "grade": true,
     "grade_id": "Q3d:fillMissing2",
     "locked": true,
     "points": "1",
     "solution": false
    }
   },
   "outputs": [],
   "source": [
    "###\n",
    "### AUTOGRADER TEST - DO NOT REMOVE\n",
    "###\n"
   ]
  },
  {
   "cell_type": "code",
   "execution_count": 90,
   "metadata": {
    "collapsed": true,
    "deletable": false,
    "editable": false,
    "nbgrader": {
     "grade": true,
     "grade_id": "Q3d:fillMissing3",
     "locked": true,
     "points": "1",
     "solution": false
    }
   },
   "outputs": [],
   "source": [
    "###\n",
    "### AUTOGRADER TEST - DO NOT REMOVE\n",
    "###\n"
   ]
  },
  {
   "cell_type": "markdown",
   "metadata": {
    "deletable": false,
    "editable": false,
    "nbgrader": {
     "grade": false,
     "locked": true,
     "solution": false
    }
   },
   "source": [
    "## Q4: HTML Parsing"
   ]
  },
  {
   "cell_type": "markdown",
   "metadata": {
    "deletable": false,
    "editable": false,
    "nbgrader": {
     "grade": false,
     "locked": true,
     "solution": false
    }
   },
   "source": [
    "In this question you will retrieve and parse a webpage. Use BeautifulSoup to parse the webpage.\n",
    "Note: For all questions, the words are separated by whitespace characted and should be converted to lower case."
   ]
  },
  {
   "cell_type": "markdown",
   "metadata": {
    "deletable": false,
    "editable": false,
    "nbgrader": {
     "grade": false,
     "locked": true,
     "solution": false
    }
   },
   "source": [
    "(a) Parse the input webpage document (url) to find all image tags. Return the count of the images in the webpage."
   ]
  },
  {
   "cell_type": "code",
   "execution_count": 91,
   "metadata": {},
   "outputs": [
    {
     "data": {
      "text/plain": [
       "5"
      ]
     },
     "execution_count": 91,
     "metadata": {},
     "output_type": "execute_result"
    }
   ],
   "source": [
    "# countImages(url) takes a url to an html page as input and returns the count \n",
    "# of the images in the corresponding webpage.\n",
    "\n",
    "def countImages(url):\n",
    "\n",
    "    ###\n",
    "    ### YOUR CODE HERE\n",
    "    ###\n",
    "    resp=requests.get(url)\n",
    "    soup = BeautifulSoup(resp.content.lower(),'lxml')\n",
    "    #print(resp.content.lower())\n",
    "    return len(soup.find_all('img'))\n",
    "    \n",
    "    \n",
    "\n",
    "    \n",
    "# Example Test Case Q4\n",
    "countImages(\"https://en.wikipedia.org/wiki/Data_science\")\n",
    "# output: 4 (Subject to change, true as of 5 June 2020)"
   ]
  },
  {
   "cell_type": "code",
   "execution_count": 92,
   "metadata": {
    "collapsed": true,
    "deletable": false,
    "editable": false,
    "nbgrader": {
     "grade": true,
     "grade_id": "Q4a:countImages1",
     "locked": true,
     "points": "1",
     "solution": false
    }
   },
   "outputs": [],
   "source": [
    "###\n",
    "### AUTOGRADER TEST - DO NOT REMOVE\n",
    "###\n"
   ]
  },
  {
   "cell_type": "code",
   "execution_count": 93,
   "metadata": {
    "collapsed": true,
    "deletable": false,
    "editable": false,
    "nbgrader": {
     "grade": true,
     "grade_id": "Q4a:countImages2",
     "locked": true,
     "points": "2",
     "solution": false
    }
   },
   "outputs": [],
   "source": [
    "###\n",
    "### AUTOGRADER TEST - DO NOT REMOVE\n",
    "###\n"
   ]
  },
  {
   "cell_type": "markdown",
   "metadata": {
    "deletable": false,
    "editable": false,
    "nbgrader": {
     "grade": false,
     "locked": true,
     "solution": false
    }
   },
   "source": [
    "(b) Parse the input webpage document (url) to count the number of the paragraph tags (\"&lt;p&gt;\") in the webpage."
   ]
  },
  {
   "cell_type": "code",
   "execution_count": 94,
   "metadata": {},
   "outputs": [
    {
     "data": {
      "text/plain": [
       "13"
      ]
     },
     "execution_count": 94,
     "metadata": {},
     "output_type": "execute_result"
    }
   ],
   "source": [
    "# countParagraphTags(url) takes a url to an html page as input and returns \n",
    "# the number of paragraph tags in the corresponding webpage.\n",
    "\n",
    "def countParagraphTags(url):\n",
    "\n",
    "    ###\n",
    "    ### YOUR CODE HERE\n",
    "    ###\n",
    "   response = requests.get(url)\n",
    "   html = response.text\n",
    "\n",
    "   soup = BeautifulSoup(html, 'lxml')\n",
    "   tags = soup.findAll('p')\n",
    "  \n",
    "   return (len(tags))\n",
    "    \n",
    "# Example Test Case Q4b\n",
    "countParagraphTags(\"https://en.wikipedia.org/wiki/Data_science\")\n",
    "# output: 16 (Subject to change, true as of 5 June 2020)"
   ]
  },
  {
   "cell_type": "code",
   "execution_count": 95,
   "metadata": {
    "collapsed": true,
    "deletable": false,
    "editable": false,
    "nbgrader": {
     "grade": true,
     "grade_id": "Q4b:countParagraphTags1",
     "locked": true,
     "points": "1",
     "solution": false
    }
   },
   "outputs": [],
   "source": [
    "###\n",
    "### AUTOGRADER TEST - DO NOT REMOVE\n",
    "###\n"
   ]
  },
  {
   "cell_type": "code",
   "execution_count": 96,
   "metadata": {
    "collapsed": true,
    "deletable": false,
    "editable": false,
    "nbgrader": {
     "grade": true,
     "grade_id": "Q4b:countParagraphTags2",
     "locked": true,
     "points": "2",
     "solution": false
    }
   },
   "outputs": [],
   "source": [
    "###\n",
    "### AUTOGRADER TEST - DO NOT REMOVE\n",
    "###\n"
   ]
  },
  {
   "cell_type": "markdown",
   "metadata": {
    "deletable": false,
    "editable": false,
    "nbgrader": {
     "grade": false,
     "locked": true,
     "solution": false
    }
   },
   "source": [
    "(c) Parse the input webpage document (url), find all the paragraph tags and do the following:\n",
    "    1. Retrieve all text enclosed in paragraph tags and convert to lower case. \n",
    "    2. Strip out punctuation using str.translate(str.maketrans('','',string.punctuation)).\n",
    "    3. Tokenize into words based on whitespace separation.\n",
    "\n",
    "Return the total number of words in all the paragraph tags. This corresponds to the document length."
   ]
  },
  {
   "cell_type": "code",
   "execution_count": 97,
   "metadata": {},
   "outputs": [
    {
     "data": {
      "text/plain": [
       "1006"
      ]
     },
     "execution_count": 97,
     "metadata": {},
     "output_type": "execute_result"
    }
   ],
   "source": [
    "# getDocumentLength(url) takes a url to an html page as input and returns \n",
    "# the document length in the corresponding webpage.\n",
    "\n",
    "def getDocumentLength(url):\n",
    "    ###\n",
    "    ### YOUR CODE HERE\n",
    "    ###\n",
    "   response = requests.get(url)\n",
    "   html = response.text\n",
    "   soup = BeautifulSoup(html, 'html.parser')\n",
    "   paragraphs = soup.find_all('p')      \n",
    "   word_dict = {}\n",
    "   for p in paragraphs:\n",
    "        pText = p.get_text().lower().translate(str.maketrans('','',string.punctuation)) \n",
    "        for word in pText.split():\n",
    "            if word in word_dict.keys():\n",
    "                word_dict[word] = word_dict[word] + 1\n",
    "            else:\n",
    "                word_dict[word] = 1\n",
    "   return(sum((word_dict.values())))\n",
    "   '''\n",
    "   response = requests.get(url)\n",
    "   html = response.text\n",
    "   soup = BeautifulSoup(html, 'xml')\n",
    "   tags = (str(soup.findAll('p'))).lower()\n",
    "   TAG_RE = re.compile(r'<[^>]+>')\n",
    "   tags=TAG_RE.sub('', tags)\n",
    "   st=(tags.translate(str.maketrans('','',string.punctuation)))\n",
    "   chunks = st.split(' ')\n",
    "   return len(chunks)\n",
    "   '''\n",
    "# Example Test Case Q4c\n",
    "getDocumentLength(\"https://en.wikipedia.org/wiki/Data_science\")\n",
    "# output: 1104 (Subject to change, true as of 5 June 2020)"
   ]
  },
  {
   "cell_type": "code",
   "execution_count": 98,
   "metadata": {
    "collapsed": true,
    "deletable": false,
    "editable": false,
    "nbgrader": {
     "grade": true,
     "grade_id": "Q4c:getDocumentLength1",
     "locked": true,
     "points": "1",
     "solution": false
    }
   },
   "outputs": [],
   "source": [
    "###\n",
    "### AUTOGRADER TEST - DO NOT REMOVE\n",
    "###\n"
   ]
  },
  {
   "cell_type": "code",
   "execution_count": 99,
   "metadata": {
    "collapsed": true,
    "deletable": false,
    "editable": false,
    "nbgrader": {
     "grade": true,
     "grade_id": "Q4c:getDocumentLength2",
     "locked": true,
     "points": "2",
     "solution": false
    }
   },
   "outputs": [],
   "source": [
    "###\n",
    "### AUTOGRADER TEST - DO NOT REMOVE\n",
    "###\n"
   ]
  },
  {
   "cell_type": "markdown",
   "metadata": {
    "deletable": false,
    "editable": false,
    "nbgrader": {
     "grade": false,
     "locked": true,
     "solution": false
    }
   },
   "source": [
    "(d) Parse the input webpage document (url), find all the paragraph tags and repeat the steps above but this time find the number of unique words. Specifically,\n",
    "    1. Retrieve all text enclosed in paragraph tags and convert to lower case. \n",
    "    2. Strip out punctuation using str.translate(str.maketrans('','',string.punctuation))\n",
    "    3. Tokenize into words based on whitespace separation.\n",
    "    4. Find the number of unique words."
   ]
  },
  {
   "cell_type": "code",
   "execution_count": 113,
   "metadata": {},
   "outputs": [
    {
     "data": {
      "text/plain": [
       "464"
      ]
     },
     "execution_count": 113,
     "metadata": {},
     "output_type": "execute_result"
    }
   ],
   "source": [
    "# getUniqueWords(url)takes a url to an html page as input and returns the \n",
    "# the number of unique terms in the corresponding webpage.\n",
    "\n",
    "def getUniqueWords(url):   \n",
    "    ###\n",
    "    ### YOUR CODE HERE\n",
    "    ###\n",
    "   response = requests.get(url)\n",
    "   html = response.text\n",
    "   soup = BeautifulSoup(html, 'html.parser')\n",
    "   paragraphs = soup.find_all('p')      \n",
    "   word_dict = {}\n",
    "   for p in paragraphs:\n",
    "        pText = p.get_text().lower().translate(str.maketrans('','',string.punctuation)) \n",
    "       \n",
    "        for word in pText.split():\n",
    "            if word in word_dict.keys():\n",
    "                word_dict[word] = word_dict[word] + 1\n",
    "            else:\n",
    "                word_dict[word] = 1\n",
    "   \n",
    "   return (len(word_dict.keys()))\n",
    "   \n",
    "   ''' \n",
    "   response = requests.get(url)\n",
    "   html = response.text\n",
    "   soup = BeautifulSoup(html, 'xml')\n",
    "   tags = (str(soup.findAll('p'))).lower()\n",
    "   TAG_RE = re.compile(r'<[^>]+>')\n",
    "   tags=TAG_RE.sub('', tags)\n",
    "   st=(tags.translate(str.maketrans('','',string.punctuation)))\n",
    "   chunks = st.split(' ')\n",
    "   return len(set(chunks))\n",
    "   '''\n",
    "# Example Test Case Q4d\n",
    "getUniqueWords(\"https://en.wikipedia.org/wiki/Data_science\")\n",
    "# output: 507 (Subject to change, true as of 5 June 2020)"
   ]
  },
  {
   "cell_type": "code",
   "execution_count": 112,
   "metadata": {
    "collapsed": true,
    "deletable": false,
    "editable": false,
    "nbgrader": {
     "grade": true,
     "grade_id": "Q4d:getUniqueWords1",
     "locked": true,
     "points": "1",
     "solution": false
    }
   },
   "outputs": [],
   "source": [
    "###\n",
    "### AUTOGRADER TEST - DO NOT REMOVE\n",
    "###\n"
   ]
  },
  {
   "cell_type": "code",
   "execution_count": 45,
   "metadata": {
    "collapsed": true,
    "deletable": false,
    "editable": false,
    "nbgrader": {
     "grade": true,
     "grade_id": "Q4d:getUniqueWords2",
     "locked": true,
     "points": "2",
     "solution": false
    }
   },
   "outputs": [],
   "source": [
    "###\n",
    "### AUTOGRADER TEST - DO NOT REMOVE\n",
    "###\n"
   ]
  }
 ],
 "metadata": {
  "kernelspec": {
   "display_name": "Python 3 (ipykernel)",
   "language": "python",
   "name": "python3"
  },
  "language_info": {
   "codemirror_mode": {
    "name": "ipython",
    "version": 3
   },
   "file_extension": ".py",
   "mimetype": "text/x-python",
   "name": "python",
   "nbconvert_exporter": "python",
   "pygments_lexer": "ipython3",
   "version": "3.8.0"
  }
 },
 "nbformat": 4,
 "nbformat_minor": 2
}
